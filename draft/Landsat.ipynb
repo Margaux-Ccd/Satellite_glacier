{
 "cells": [
  {
   "cell_type": "markdown",
   "metadata": {},
   "source": [
    "# Try Pylandsat"
   ]
  },
  {
   "cell_type": "code",
   "execution_count": 1,
   "metadata": {},
   "outputs": [
    {
     "name": "stdout",
     "output_type": "stream",
     "text": [
      "Collecting pylandsat\n",
      "  Downloading pylandsat-0.6.0-py3-none-any.whl.metadata (7.3 kB)\n",
      "Collecting appdirs (from pylandsat)\n",
      "  Downloading appdirs-1.4.4-py2.py3-none-any.whl.metadata (9.0 kB)\n",
      "Requirement already satisfied: click in c:\\users\\marga\\appdata\\local\\packages\\pythonsoftwarefoundation.python.3.11_qbz5n2kfra8p0\\localcache\\local-packages\\python311\\site-packages (from pylandsat) (8.1.7)\n",
      "Collecting fiona (from pylandsat)\n",
      "  Using cached fiona-1.10.1-cp311-cp311-win_amd64.whl.metadata (58 kB)\n",
      "Collecting geopy (from pylandsat)\n",
      "  Downloading geopy-2.4.1-py3-none-any.whl.metadata (6.8 kB)\n",
      "Requirement already satisfied: numpy in c:\\users\\marga\\appdata\\local\\packages\\pythonsoftwarefoundation.python.3.11_qbz5n2kfra8p0\\localcache\\local-packages\\python311\\site-packages (from pylandsat) (1.26.1)\n",
      "Requirement already satisfied: python-dateutil in c:\\users\\marga\\appdata\\local\\packages\\pythonsoftwarefoundation.python.3.11_qbz5n2kfra8p0\\localcache\\local-packages\\python311\\site-packages (from pylandsat) (2.8.2)\n",
      "Requirement already satisfied: rasterio<2.0,>=1.0 in c:\\users\\marga\\appdata\\local\\packages\\pythonsoftwarefoundation.python.3.11_qbz5n2kfra8p0\\localcache\\local-packages\\python311\\site-packages (from pylandsat) (1.3.11)\n",
      "Requirement already satisfied: requests<3.0,>=2.20 in c:\\users\\marga\\appdata\\local\\packages\\pythonsoftwarefoundation.python.3.11_qbz5n2kfra8p0\\localcache\\local-packages\\python311\\site-packages (from pylandsat) (2.32.3)\n",
      "Requirement already satisfied: shapely in c:\\users\\marga\\appdata\\local\\packages\\pythonsoftwarefoundation.python.3.11_qbz5n2kfra8p0\\localcache\\local-packages\\python311\\site-packages (from pylandsat) (2.0.6)\n",
      "Requirement already satisfied: tqdm in c:\\users\\marga\\appdata\\local\\packages\\pythonsoftwarefoundation.python.3.11_qbz5n2kfra8p0\\localcache\\local-packages\\python311\\site-packages (from pylandsat) (4.66.6)\n",
      "Requirement already satisfied: affine in c:\\users\\marga\\appdata\\local\\packages\\pythonsoftwarefoundation.python.3.11_qbz5n2kfra8p0\\localcache\\local-packages\\python311\\site-packages (from rasterio<2.0,>=1.0->pylandsat) (2.4.0)\n",
      "Requirement already satisfied: attrs in c:\\users\\marga\\appdata\\local\\packages\\pythonsoftwarefoundation.python.3.11_qbz5n2kfra8p0\\localcache\\local-packages\\python311\\site-packages (from rasterio<2.0,>=1.0->pylandsat) (23.1.0)\n",
      "Requirement already satisfied: certifi in c:\\users\\marga\\appdata\\local\\packages\\pythonsoftwarefoundation.python.3.11_qbz5n2kfra8p0\\localcache\\local-packages\\python311\\site-packages (from rasterio<2.0,>=1.0->pylandsat) (2024.8.30)\n",
      "Requirement already satisfied: cligj>=0.5 in c:\\users\\marga\\appdata\\local\\packages\\pythonsoftwarefoundation.python.3.11_qbz5n2kfra8p0\\localcache\\local-packages\\python311\\site-packages (from rasterio<2.0,>=1.0->pylandsat) (0.7.2)\n",
      "Requirement already satisfied: snuggs>=1.4.1 in c:\\users\\marga\\appdata\\local\\packages\\pythonsoftwarefoundation.python.3.11_qbz5n2kfra8p0\\localcache\\local-packages\\python311\\site-packages (from rasterio<2.0,>=1.0->pylandsat) (1.4.7)\n",
      "Requirement already satisfied: click-plugins in c:\\users\\marga\\appdata\\local\\packages\\pythonsoftwarefoundation.python.3.11_qbz5n2kfra8p0\\localcache\\local-packages\\python311\\site-packages (from rasterio<2.0,>=1.0->pylandsat) (1.1.1)\n",
      "Requirement already satisfied: setuptools in c:\\program files\\windowsapps\\pythonsoftwarefoundation.python.3.11_3.11.2544.0_x64__qbz5n2kfra8p0\\lib\\site-packages (from rasterio<2.0,>=1.0->pylandsat) (65.5.0)\n",
      "Requirement already satisfied: colorama in c:\\users\\marga\\appdata\\local\\packages\\pythonsoftwarefoundation.python.3.11_qbz5n2kfra8p0\\localcache\\local-packages\\python311\\site-packages (from click->pylandsat) (0.4.6)\n",
      "Requirement already satisfied: charset-normalizer<4,>=2 in c:\\users\\marga\\appdata\\local\\packages\\pythonsoftwarefoundation.python.3.11_qbz5n2kfra8p0\\localcache\\local-packages\\python311\\site-packages (from requests<3.0,>=2.20->pylandsat) (3.4.0)\n",
      "Requirement already satisfied: idna<4,>=2.5 in c:\\users\\marga\\appdata\\local\\packages\\pythonsoftwarefoundation.python.3.11_qbz5n2kfra8p0\\localcache\\local-packages\\python311\\site-packages (from requests<3.0,>=2.20->pylandsat) (3.4)\n",
      "Requirement already satisfied: urllib3<3,>=1.21.1 in c:\\users\\marga\\appdata\\local\\packages\\pythonsoftwarefoundation.python.3.11_qbz5n2kfra8p0\\localcache\\local-packages\\python311\\site-packages (from requests<3.0,>=2.20->pylandsat) (2.2.3)\n",
      "Collecting geographiclib<3,>=1.52 (from geopy->pylandsat)\n",
      "  Downloading geographiclib-2.0-py3-none-any.whl.metadata (1.4 kB)\n",
      "Requirement already satisfied: six>=1.5 in c:\\users\\marga\\appdata\\local\\packages\\pythonsoftwarefoundation.python.3.11_qbz5n2kfra8p0\\localcache\\local-packages\\python311\\site-packages (from python-dateutil->pylandsat) (1.16.0)\n",
      "Requirement already satisfied: pyparsing>=2.1.6 in c:\\users\\marga\\appdata\\local\\packages\\pythonsoftwarefoundation.python.3.11_qbz5n2kfra8p0\\localcache\\local-packages\\python311\\site-packages (from snuggs>=1.4.1->rasterio<2.0,>=1.0->pylandsat) (3.1.4)\n",
      "Downloading pylandsat-0.6.0-py3-none-any.whl (19 kB)\n",
      "Downloading appdirs-1.4.4-py2.py3-none-any.whl (9.6 kB)\n",
      "Using cached fiona-1.10.1-cp311-cp311-win_amd64.whl (24.5 MB)\n",
      "Downloading geopy-2.4.1-py3-none-any.whl (125 kB)\n",
      "Downloading geographiclib-2.0-py3-none-any.whl (40 kB)\n",
      "Installing collected packages: appdirs, geographiclib, geopy, fiona, pylandsat\n",
      "Successfully installed appdirs-1.4.4 fiona-1.10.1 geographiclib-2.0 geopy-2.4.1 pylandsat-0.6.0\n",
      "Note: you may need to restart the kernel to use updated packages.\n"
     ]
    }
   ],
   "source": [
    "pip install pylandsat"
   ]
  },
  {
   "cell_type": "code",
   "execution_count": 4,
   "metadata": {},
   "outputs": [
    {
     "ename": "OperationalError",
     "evalue": "Le module spécifié est introuvable.\r\n",
     "output_type": "error",
     "traceback": [
      "\u001b[1;31m---------------------------------------------------------------------------\u001b[0m",
      "\u001b[1;31mOperationalError\u001b[0m                          Traceback (most recent call last)",
      "Cell \u001b[1;32mIn[4], line 13\u001b[0m\n\u001b[0;32m     10\u001b[0m geom \u001b[38;5;241m=\u001b[39m Point(\u001b[38;5;241m4.34\u001b[39m, \u001b[38;5;241m50.85\u001b[39m)\n\u001b[0;32m     12\u001b[0m \u001b[38;5;66;03m# Results are returned as a list\u001b[39;00m\n\u001b[1;32m---> 13\u001b[0m scenes \u001b[38;5;241m=\u001b[39m \u001b[43mcatalog\u001b[49m\u001b[38;5;241;43m.\u001b[39;49m\u001b[43msearch\u001b[49m\u001b[43m(\u001b[49m\n\u001b[0;32m     14\u001b[0m \u001b[43m    \u001b[49m\u001b[43mbegin\u001b[49m\u001b[38;5;241;43m=\u001b[39;49m\u001b[43mbegin\u001b[49m\u001b[43m,\u001b[49m\n\u001b[0;32m     15\u001b[0m \u001b[43m    \u001b[49m\u001b[43mend\u001b[49m\u001b[38;5;241;43m=\u001b[39;49m\u001b[43mend\u001b[49m\u001b[43m,\u001b[49m\n\u001b[0;32m     16\u001b[0m \u001b[43m    \u001b[49m\u001b[43mgeom\u001b[49m\u001b[38;5;241;43m=\u001b[39;49m\u001b[43mgeom\u001b[49m\u001b[43m,\u001b[49m\n\u001b[0;32m     17\u001b[0m \u001b[43m    \u001b[49m\u001b[43msensors\u001b[49m\u001b[38;5;241;43m=\u001b[39;49m\u001b[43m[\u001b[49m\u001b[38;5;124;43m'\u001b[39;49m\u001b[38;5;124;43mLE07\u001b[39;49m\u001b[38;5;124;43m'\u001b[39;49m\u001b[43m,\u001b[49m\u001b[43m \u001b[49m\u001b[38;5;124;43m'\u001b[39;49m\u001b[38;5;124;43mLC08\u001b[39;49m\u001b[38;5;124;43m'\u001b[39;49m\u001b[43m]\u001b[49m\n\u001b[0;32m     18\u001b[0m \u001b[43m)\u001b[49m\n\u001b[0;32m     20\u001b[0m \u001b[38;5;66;03m# Get the product ID of the first scene\u001b[39;00m\n\u001b[0;32m     21\u001b[0m product_id \u001b[38;5;241m=\u001b[39m scenes[\u001b[38;5;241m0\u001b[39m]\u001b[38;5;241m.\u001b[39mget(\u001b[38;5;124m\"\u001b[39m\u001b[38;5;124mproduct_id\u001b[39m\u001b[38;5;124m\"\u001b[39m)\n",
      "File \u001b[1;32m~\\AppData\\Local\\Packages\\PythonSoftwareFoundation.Python.3.11_qbz5n2kfra8p0\\LocalCache\\local-packages\\Python311\\site-packages\\pylandsat\\catalog.py:97\u001b[0m, in \u001b[0;36mCatalog.search\u001b[1;34m(self, begin, end, path, row, geom, maxcloud, sensors, tiers, slc)\u001b[0m\n\u001b[0;32m     93\u001b[0m     scenes \u001b[38;5;241m=\u001b[39m \u001b[38;5;28mself\u001b[39m\u001b[38;5;241m.\u001b[39mdb\u001b[38;5;241m.\u001b[39mquery(\n\u001b[0;32m     94\u001b[0m         query\u001b[38;5;241m=\u001b[39mqueries\u001b[38;5;241m.\u001b[39mCATALOG_SEARCH_PATHROW,\n\u001b[0;32m     95\u001b[0m         params\u001b[38;5;241m=\u001b[39m(path, row, begin, end, maxcloud, sensors, tiers))\n\u001b[0;32m     96\u001b[0m \u001b[38;5;28;01melif\u001b[39;00m geom:\n\u001b[1;32m---> 97\u001b[0m     scenes \u001b[38;5;241m=\u001b[39m \u001b[38;5;28;43mself\u001b[39;49m\u001b[38;5;241;43m.\u001b[39;49m\u001b[43mdb\u001b[49m\u001b[38;5;241;43m.\u001b[39;49m\u001b[43mquery\u001b[49m\u001b[43m(\u001b[49m\n\u001b[0;32m     98\u001b[0m \u001b[43m        \u001b[49m\u001b[43mquery\u001b[49m\u001b[38;5;241;43m=\u001b[39;49m\u001b[43mqueries\u001b[49m\u001b[38;5;241;43m.\u001b[39;49m\u001b[43mCATALOG_SEARCH_GEOM\u001b[49m\u001b[43m,\u001b[49m\n\u001b[0;32m     99\u001b[0m \u001b[43m        \u001b[49m\u001b[43mparams\u001b[49m\u001b[38;5;241;43m=\u001b[39;49m\u001b[43m(\u001b[49m\u001b[43mgeom\u001b[49m\u001b[43m,\u001b[49m\u001b[43m \u001b[49m\u001b[43mbegin\u001b[49m\u001b[43m,\u001b[49m\u001b[43m \u001b[49m\u001b[43mend\u001b[49m\u001b[43m,\u001b[49m\u001b[43m \u001b[49m\u001b[43mmaxcloud\u001b[49m\u001b[43m,\u001b[49m\u001b[43m \u001b[49m\u001b[43msensors\u001b[49m\u001b[43m,\u001b[49m\u001b[43m \u001b[49m\u001b[43mtiers\u001b[49m\u001b[43m,\u001b[49m\u001b[43m \u001b[49m\u001b[43mgeom\u001b[49m\u001b[43m)\u001b[49m\u001b[43m)\u001b[49m\n\u001b[0;32m    100\u001b[0m \u001b[38;5;28;01melse\u001b[39;00m:\n\u001b[0;32m    101\u001b[0m     \u001b[38;5;28;01mraise\u001b[39;00m \u001b[38;5;167;01mValueError\u001b[39;00m(\u001b[38;5;124m'\u001b[39m\u001b[38;5;124mNo spatial information provided.\u001b[39m\u001b[38;5;124m'\u001b[39m)\n",
      "File \u001b[1;32m~\\AppData\\Local\\Packages\\PythonSoftwareFoundation.Python.3.11_qbz5n2kfra8p0\\LocalCache\\local-packages\\Python311\\site-packages\\pylandsat\\database.py:67\u001b[0m, in \u001b[0;36mLandsatDB.query\u001b[1;34m(self, query, params)\u001b[0m\n\u001b[0;32m     65\u001b[0m \u001b[38;5;28;01mdef\u001b[39;00m \u001b[38;5;21mquery\u001b[39m(\u001b[38;5;28mself\u001b[39m, query, params\u001b[38;5;241m=\u001b[39m\u001b[38;5;28;01mNone\u001b[39;00m):\n\u001b[0;32m     66\u001b[0m \u001b[38;5;250m    \u001b[39m\u001b[38;5;124;03m\"\"\"Perform an SQL query and returns the result as a dict.\"\"\"\u001b[39;00m\n\u001b[1;32m---> 67\u001b[0m     conn \u001b[38;5;241m=\u001b[39m \u001b[38;5;28;43mself\u001b[39;49m\u001b[38;5;241;43m.\u001b[39;49m\u001b[43mconnect\u001b[49m\u001b[43m(\u001b[49m\u001b[43m)\u001b[49m\n\u001b[0;32m     68\u001b[0m     conn\u001b[38;5;241m.\u001b[39mrow_factory \u001b[38;5;241m=\u001b[39m sqlite3\u001b[38;5;241m.\u001b[39mRow\n\u001b[0;32m     69\u001b[0m     c \u001b[38;5;241m=\u001b[39m conn\u001b[38;5;241m.\u001b[39mcursor()\n",
      "File \u001b[1;32m~\\AppData\\Local\\Packages\\PythonSoftwareFoundation.Python.3.11_qbz5n2kfra8p0\\LocalCache\\local-packages\\Python311\\site-packages\\pylandsat\\database.py:62\u001b[0m, in \u001b[0;36mLandsatDB.connect\u001b[1;34m(self)\u001b[0m\n\u001b[0;32m     60\u001b[0m conn \u001b[38;5;241m=\u001b[39m sqlite3\u001b[38;5;241m.\u001b[39mconnect(\u001b[38;5;28mself\u001b[39m\u001b[38;5;241m.\u001b[39mpath)\n\u001b[0;32m     61\u001b[0m conn\u001b[38;5;241m.\u001b[39menable_load_extension(\u001b[38;5;28;01mTrue\u001b[39;00m)\n\u001b[1;32m---> 62\u001b[0m \u001b[43mconn\u001b[49m\u001b[38;5;241;43m.\u001b[39;49m\u001b[43mexecute\u001b[49m\u001b[43m(\u001b[49m\u001b[38;5;124;43m\"\u001b[39;49m\u001b[38;5;124;43mSELECT load_extension(\u001b[39;49m\u001b[38;5;124;43m'\u001b[39;49m\u001b[38;5;124;43mmod_spatialite\u001b[39;49m\u001b[38;5;124;43m'\u001b[39;49m\u001b[38;5;124;43m);\u001b[39;49m\u001b[38;5;124;43m\"\u001b[39;49m\u001b[43m)\u001b[49m\n\u001b[0;32m     63\u001b[0m \u001b[38;5;28;01mreturn\u001b[39;00m conn\n",
      "\u001b[1;31mOperationalError\u001b[0m: Le module spécifié est introuvable.\r\n"
     ]
    }
   ],
   "source": [
    "from datetime import datetime\n",
    "\n",
    "from shapely.geometry import Point\n",
    "from pylandsat import Catalog, Product\n",
    "\n",
    "catalog = Catalog()\n",
    "\n",
    "begin = datetime(2010, 1, 1)\n",
    "end = datetime(2020, 1, 1)\n",
    "geom = Point(4.34, 50.85)\n",
    "\n",
    "# Results are returned as a list\n",
    "scenes = catalog.search(\n",
    "    begin=begin,\n",
    "    end=end,\n",
    "    geom=geom,\n",
    "    sensors=['LE07', 'LC08']\n",
    ")\n",
    "\n",
    "# Get the product ID of the first scene\n",
    "product_id = scenes[0].get(\"product_id\")\n",
    "\n",
    "# Download the scene\n",
    "product = Product(product_id)\n",
    "product.download(out_dir='data')\n",
    "\n",
    "# The output of catalog.search() can be converted to a DataFrame\n",
    "# for further processing. For instance:\n",
    "# Get the product ID of the scene with the lowest cloud cover\n",
    "import pandas as pd\n",
    "\n",
    "df = pd.DataFrame.from_dict(scenes)\n",
    "df.set_index([\"product_id\"], inplace=True)\n",
    "df = df.sort_values(by='cloud_cover', ascending=True)\n",
    "product_id = df.index[0]"
   ]
  },
  {
   "cell_type": "code",
   "execution_count": 5,
   "metadata": {},
   "outputs": [
    {
     "ename": "FileNotFoundError",
     "evalue": "[WinError 3] Le chemin d’accès spécifié est introuvable: 'c:\\\\Users\\\\marga\\\\Documents\\\\EPFL\\\\Cours\\\\S2\\\\Design_project\\\\codes\\\\Satellite_glacier\\\\draft\\\\data\\\\LE07_L1TP_205050_19991104_20170216_01_T1'",
     "output_type": "error",
     "traceback": [
      "\u001b[1;31m---------------------------------------------------------------------------\u001b[0m",
      "\u001b[1;31mFileNotFoundError\u001b[0m                         Traceback (most recent call last)",
      "Cell \u001b[1;32mIn[5], line 7\u001b[0m\n\u001b[0;32m      4\u001b[0m \u001b[38;5;28;01mfrom\u001b[39;00m \u001b[38;5;21;01mpylandsat\u001b[39;00m \u001b[38;5;28;01mimport\u001b[39;00m Scene\n\u001b[0;32m      6\u001b[0m \u001b[38;5;66;03m# Access data\u001b[39;00m\n\u001b[1;32m----> 7\u001b[0m scene \u001b[38;5;241m=\u001b[39m \u001b[43mScene\u001b[49m\u001b[43m(\u001b[49m\u001b[38;5;124;43m'\u001b[39;49m\u001b[38;5;124;43mdata/LE07_L1TP_205050_19991104_20170216_01_T1\u001b[39;49m\u001b[38;5;124;43m'\u001b[39;49m\u001b[43m)\u001b[49m\n\u001b[0;32m      8\u001b[0m \u001b[38;5;28mprint\u001b[39m(scene\u001b[38;5;241m.\u001b[39mavailable_bands())\n\u001b[0;32m      9\u001b[0m \u001b[38;5;28mprint\u001b[39m(scene\u001b[38;5;241m.\u001b[39mproduct_id)\n",
      "File \u001b[1;32m~\\AppData\\Local\\Packages\\PythonSoftwareFoundation.Python.3.11_qbz5n2kfra8p0\\LocalCache\\local-packages\\Python311\\site-packages\\pylandsat\\scene.py:102\u001b[0m, in \u001b[0;36mScene.__init__\u001b[1;34m(self, scene_dir)\u001b[0m\n\u001b[0;32m    100\u001b[0m \u001b[38;5;250m\u001b[39m\u001b[38;5;124;03m\"\"\"Landsat Level-1 scene.\"\"\"\u001b[39;00m\n\u001b[0;32m    101\u001b[0m \u001b[38;5;28mself\u001b[39m\u001b[38;5;241m.\u001b[39mdir \u001b[38;5;241m=\u001b[39m os\u001b[38;5;241m.\u001b[39mpath\u001b[38;5;241m.\u001b[39mabspath(scene_dir)\n\u001b[1;32m--> 102\u001b[0m \u001b[38;5;28mself\u001b[39m\u001b[38;5;241m.\u001b[39mmtl \u001b[38;5;241m=\u001b[39m \u001b[38;5;28;43mself\u001b[39;49m\u001b[38;5;241;43m.\u001b[39;49m\u001b[43m_parse_mtl\u001b[49m\u001b[43m(\u001b[49m\u001b[43m)\u001b[49m\n",
      "File \u001b[1;32m~\\AppData\\Local\\Packages\\PythonSoftwareFoundation.Python.3.11_qbz5n2kfra8p0\\LocalCache\\local-packages\\Python311\\site-packages\\pylandsat\\scene.py:149\u001b[0m, in \u001b[0;36mScene._parse_mtl\u001b[1;34m(self)\u001b[0m\n\u001b[0;32m    141\u001b[0m \u001b[38;5;250m\u001b[39m\u001b[38;5;124;03m\"\"\"Parse MTL metadata file.\u001b[39;00m\n\u001b[0;32m    142\u001b[0m \n\u001b[0;32m    143\u001b[0m \u001b[38;5;124;03mReturns\u001b[39;00m\n\u001b[1;32m   (...)\u001b[0m\n\u001b[0;32m    146\u001b[0m \u001b[38;5;124;03m    MTL metadata in a dictionnary.\u001b[39;00m\n\u001b[0;32m    147\u001b[0m \u001b[38;5;124;03m\"\"\"\u001b[39;00m\n\u001b[0;32m    148\u001b[0m mtl \u001b[38;5;241m=\u001b[39m {}\n\u001b[1;32m--> 149\u001b[0m fpath \u001b[38;5;241m=\u001b[39m \u001b[38;5;28;43mself\u001b[39;49m\u001b[38;5;241;43m.\u001b[39;49m\u001b[43mfile_path\u001b[49m\u001b[43m(\u001b[49m\u001b[38;5;124;43m'\u001b[39;49m\u001b[38;5;124;43mMTL\u001b[39;49m\u001b[38;5;124;43m'\u001b[39;49m\u001b[43m)\u001b[49m\n\u001b[0;32m    150\u001b[0m f \u001b[38;5;241m=\u001b[39m \u001b[38;5;28mopen\u001b[39m(fpath)\n\u001b[0;32m    151\u001b[0m \u001b[38;5;28;01mfor\u001b[39;00m line \u001b[38;5;129;01min\u001b[39;00m f\u001b[38;5;241m.\u001b[39mreadlines():\n",
      "File \u001b[1;32m~\\AppData\\Local\\Packages\\PythonSoftwareFoundation.Python.3.11_qbz5n2kfra8p0\\LocalCache\\local-packages\\Python311\\site-packages\\pylandsat\\scene.py:135\u001b[0m, in \u001b[0;36mScene.file_path\u001b[1;34m(self, suffix)\u001b[0m\n\u001b[0;32m    133\u001b[0m \u001b[38;5;28;01mdef\u001b[39;00m \u001b[38;5;21mfile_path\u001b[39m(\u001b[38;5;28mself\u001b[39m, suffix):\n\u001b[0;32m    134\u001b[0m \u001b[38;5;250m    \u001b[39m\u001b[38;5;124;03m\"\"\"Find file path according to a given file suffix.\"\"\"\u001b[39;00m\n\u001b[1;32m--> 135\u001b[0m     \u001b[38;5;28;01mfor\u001b[39;00m fname \u001b[38;5;129;01min\u001b[39;00m \u001b[38;5;28;43mself\u001b[39;49m\u001b[38;5;241;43m.\u001b[39;49m\u001b[43m_available_files\u001b[49m\u001b[43m(\u001b[49m\u001b[43m)\u001b[49m:\n\u001b[0;32m    136\u001b[0m         \u001b[38;5;28;01mif\u001b[39;00m suffix \u001b[38;5;241m==\u001b[39m _suffix_from_fname(fname):\n\u001b[0;32m    137\u001b[0m             \u001b[38;5;28;01mreturn\u001b[39;00m os\u001b[38;5;241m.\u001b[39mpath\u001b[38;5;241m.\u001b[39mjoin(\u001b[38;5;28mself\u001b[39m\u001b[38;5;241m.\u001b[39mdir, fname)\n",
      "File \u001b[1;32m~\\AppData\\Local\\Packages\\PythonSoftwareFoundation.Python.3.11_qbz5n2kfra8p0\\LocalCache\\local-packages\\Python311\\site-packages\\pylandsat\\scene.py:120\u001b[0m, in \u001b[0;36mScene._available_files\u001b[1;34m(self)\u001b[0m\n\u001b[0;32m    118\u001b[0m \u001b[38;5;28;01mdef\u001b[39;00m \u001b[38;5;21m_available_files\u001b[39m(\u001b[38;5;28mself\u001b[39m):\n\u001b[0;32m    119\u001b[0m \u001b[38;5;250m    \u001b[39m\u001b[38;5;124;03m\"\"\"List available files in the scene directory.\"\"\"\u001b[39;00m\n\u001b[1;32m--> 120\u001b[0m     \u001b[38;5;28;01mreturn\u001b[39;00m [f \u001b[38;5;28;01mfor\u001b[39;00m f \u001b[38;5;129;01min\u001b[39;00m \u001b[43mos\u001b[49m\u001b[38;5;241;43m.\u001b[39;49m\u001b[43mlistdir\u001b[49m\u001b[43m(\u001b[49m\u001b[38;5;28;43mself\u001b[39;49m\u001b[38;5;241;43m.\u001b[39;49m\u001b[43mdir\u001b[49m\u001b[43m)\u001b[49m\n\u001b[0;32m    121\u001b[0m             \u001b[38;5;28;01mif\u001b[39;00m f\u001b[38;5;241m.\u001b[39mendswith(\u001b[38;5;124m'\u001b[39m\u001b[38;5;124m.TIF\u001b[39m\u001b[38;5;124m'\u001b[39m) \u001b[38;5;129;01mor\u001b[39;00m f\u001b[38;5;241m.\u001b[39mendswith(\u001b[38;5;124m'\u001b[39m\u001b[38;5;124m.txt\u001b[39m\u001b[38;5;124m'\u001b[39m)]\n",
      "\u001b[1;31mFileNotFoundError\u001b[0m: [WinError 3] Le chemin d’accès spécifié est introuvable: 'c:\\\\Users\\\\marga\\\\Documents\\\\EPFL\\\\Cours\\\\S2\\\\Design_project\\\\codes\\\\Satellite_glacier\\\\draft\\\\data\\\\LE07_L1TP_205050_19991104_20170216_01_T1'"
     ]
    }
   ],
   "source": [
    "import numpy as np\n",
    "import rasterio\n",
    "import matplotlib.pyplot as plt\n",
    "from pylandsat import Scene\n",
    "\n",
    "# Access data\n",
    "scene = Scene('data/LE07_L1TP_205050_19991104_20170216_01_T1')\n",
    "print(scene.available_bands())\n",
    "print(scene.product_id)\n",
    "print(scene.sensor)\n",
    "print(scene.date)\n",
    "\n",
    "# Access MTL metadata\n",
    "print(scene.mtl['IMAGE_ATTRIBUTES']['CLOUD_COVER_LAND'])\n",
    "\n",
    "# Quality band\n",
    "plt.imshow(scene.quality.read())\n",
    "\n",
    "# Access band data\n",
    "nir = scene.nir.read(1)\n",
    "red = scene.red.read(1)\n",
    "ndvi = (nir + red) / (nir - red)\n",
    "\n",
    "# Access band metadata\n",
    "print(scene.nir.bname)\n",
    "print(scene.nir.fname)\n",
    "print(scene.nir.profile)\n",
    "print(scene.nir.width, scene.nir.height)\n",
    "print(scene.nir.crs)\n",
    "\n",
    "# Use reflectance values instead of DN\n",
    "nir = scene.nir.to_reflectance()\n",
    "\n",
    "# ..or brightness temperature\n",
    "tirs = scene.tirs.to_brightness_temperature()\n",
    "\n",
    "# Save file to disk\n",
    "with rasterio.open('temperature.tif', 'w', **scene.tirs.profile) as dst:\n",
    "    dst.write(tirs, 1)"
   ]
  },
  {
   "cell_type": "markdown",
   "metadata": {},
   "source": [
    "# Using Landsatxplore"
   ]
  },
  {
   "cell_type": "code",
   "execution_count": 6,
   "metadata": {},
   "outputs": [
    {
     "name": "stdout",
     "output_type": "stream",
     "text": [
      "Collecting landsatxplore\n",
      "  Downloading landsatxplore-0.15.0-py3-none-any.whl.metadata (7.9 kB)\n",
      "Collecting click<8.0,>=7.1 (from landsatxplore)\n",
      "  Downloading click-7.1.2-py2.py3-none-any.whl.metadata (2.9 kB)\n",
      "Requirement already satisfied: python-dateutil<3.0,>=2.8 in c:\\users\\marga\\appdata\\local\\packages\\pythonsoftwarefoundation.python.3.11_qbz5n2kfra8p0\\localcache\\local-packages\\python311\\site-packages (from landsatxplore) (2.8.2)\n",
      "Requirement already satisfied: requests<3.0,>=2.20 in c:\\users\\marga\\appdata\\local\\packages\\pythonsoftwarefoundation.python.3.11_qbz5n2kfra8p0\\localcache\\local-packages\\python311\\site-packages (from landsatxplore) (2.32.3)\n",
      "Collecting shapely<2.0,>=1.7 (from landsatxplore)\n",
      "  Downloading Shapely-1.8.5.post1-cp311-cp311-win_amd64.whl.metadata (43 kB)\n",
      "Requirement already satisfied: tqdm<5.0,>=4.58 in c:\\users\\marga\\appdata\\local\\packages\\pythonsoftwarefoundation.python.3.11_qbz5n2kfra8p0\\localcache\\local-packages\\python311\\site-packages (from landsatxplore) (4.66.6)\n",
      "Requirement already satisfied: six>=1.5 in c:\\users\\marga\\appdata\\local\\packages\\pythonsoftwarefoundation.python.3.11_qbz5n2kfra8p0\\localcache\\local-packages\\python311\\site-packages (from python-dateutil<3.0,>=2.8->landsatxplore) (1.16.0)\n",
      "Requirement already satisfied: charset-normalizer<4,>=2 in c:\\users\\marga\\appdata\\local\\packages\\pythonsoftwarefoundation.python.3.11_qbz5n2kfra8p0\\localcache\\local-packages\\python311\\site-packages (from requests<3.0,>=2.20->landsatxplore) (3.4.0)\n",
      "Requirement already satisfied: idna<4,>=2.5 in c:\\users\\marga\\appdata\\local\\packages\\pythonsoftwarefoundation.python.3.11_qbz5n2kfra8p0\\localcache\\local-packages\\python311\\site-packages (from requests<3.0,>=2.20->landsatxplore) (3.4)\n",
      "Requirement already satisfied: urllib3<3,>=1.21.1 in c:\\users\\marga\\appdata\\local\\packages\\pythonsoftwarefoundation.python.3.11_qbz5n2kfra8p0\\localcache\\local-packages\\python311\\site-packages (from requests<3.0,>=2.20->landsatxplore) (2.2.3)\n",
      "Requirement already satisfied: certifi>=2017.4.17 in c:\\users\\marga\\appdata\\local\\packages\\pythonsoftwarefoundation.python.3.11_qbz5n2kfra8p0\\localcache\\local-packages\\python311\\site-packages (from requests<3.0,>=2.20->landsatxplore) (2024.8.30)\n",
      "Requirement already satisfied: colorama in c:\\users\\marga\\appdata\\local\\packages\\pythonsoftwarefoundation.python.3.11_qbz5n2kfra8p0\\localcache\\local-packages\\python311\\site-packages (from tqdm<5.0,>=4.58->landsatxplore) (0.4.6)\n",
      "Downloading landsatxplore-0.15.0-py3-none-any.whl (15 kB)\n",
      "Downloading click-7.1.2-py2.py3-none-any.whl (82 kB)\n",
      "Downloading Shapely-1.8.5.post1-cp311-cp311-win_amd64.whl (1.3 MB)\n",
      "   ---------------------------------------- 0.0/1.3 MB ? eta -:--:--\n",
      "   ---------------------------------------- 1.3/1.3 MB 7.4 MB/s eta 0:00:00\n",
      "Installing collected packages: shapely, click, landsatxplore\n",
      "  Attempting uninstall: shapely\n",
      "    Found existing installation: shapely 2.0.6\n",
      "    Uninstalling shapely-2.0.6:\n",
      "      Successfully uninstalled shapely-2.0.6\n",
      "  Attempting uninstall: click\n",
      "    Found existing installation: click 8.1.7\n",
      "    Uninstalling click-8.1.7:\n",
      "      Successfully uninstalled click-8.1.7\n",
      "Successfully installed click-7.1.2 landsatxplore-0.15.0 shapely-1.8.5.post1\n",
      "Note: you may need to restart the kernel to use updated packages.\n"
     ]
    },
    {
     "name": "stderr",
     "output_type": "stream",
     "text": [
      "  WARNING: Failed to remove contents in a temporary directory 'C:\\Users\\marga\\AppData\\Local\\Packages\\PythonSoftwareFoundation.Python.3.11_qbz5n2kfra8p0\\LocalCache\\local-packages\\Python311\\site-packages\\~hapely.libs'.\n",
      "  You can safely remove it manually.\n",
      "  WARNING: Failed to remove contents in a temporary directory 'C:\\Users\\marga\\AppData\\Local\\Packages\\PythonSoftwareFoundation.Python.3.11_qbz5n2kfra8p0\\LocalCache\\local-packages\\Python311\\site-packages\\~hapely'.\n",
      "  You can safely remove it manually.\n",
      "ERROR: pip's dependency resolver does not currently take into account all the packages that are installed. This behaviour is the source of the following dependency conflicts.\n",
      "fiona 1.10.1 requires click~=8.0, but you have click 7.1.2 which is incompatible.\n",
      "geopandas 1.0.1 requires shapely>=2.0.0, but you have shapely 1.8.5.post1 which is incompatible.\n",
      "libpysal 4.12.1 requires shapely>=2.0.1, but you have shapely 1.8.5.post1 which is incompatible.\n"
     ]
    }
   ],
   "source": [
    "pip install landsatxplore\n"
   ]
  },
  {
   "cell_type": "code",
   "execution_count": null,
   "metadata": {},
   "outputs": [],
   "source": [
    "from landsatxplore.api import API\n",
    "\n",
    "# Initialize a new API instance and get an access key\n",
    "api = API(username, password)\n",
    "\n",
    "# Perform a request. Results are returned in a dictionnary\n",
    "response = api.request(\n",
    "    '<request_endpoint>',\n",
    "    params={\n",
    "        \"param_1\": value_1,\n",
    "        \"param_2\": value_2\n",
    "    }\n",
    ")\n",
    "\n",
    "# Log out\n",
    "api.logout()"
   ]
  },
  {
   "cell_type": "code",
   "execution_count": null,
   "metadata": {},
   "outputs": [],
   "source": [
    "import json\n",
    "from landsatxplore.api import API\n",
    "\n",
    "# Initialize a new API instance and get an access key\n",
    "api = API(username, password)\n",
    "\n",
    "# Search for Landsat TM scenes\n",
    "scenes = api.search(\n",
    "    dataset='landsat_tm_c2_l1',\n",
    "    latitude=50.85,\n",
    "    longitude=-4.35,\n",
    "    start_date='1995-01-01',\n",
    "    end_date='1995-10-01',\n",
    "    max_cloud_cover=10\n",
    ")\n",
    "\n",
    "print(f\"{len(scenes)} scenes found.\")\n",
    "\n",
    "# Process the result\n",
    "for scene in scenes:\n",
    "    print(scene['acquisition_date'].strftime('%Y-%m-%d'))\n",
    "    # Write scene footprints to disk\n",
    "    fname = f\"{scene['landsat_product_id']}.geojson\"\n",
    "    with open(fname, \"w\") as f:\n",
    "        json.dump(scene['spatial_coverage'].__geo_interface__, f)\n",
    "\n",
    "api.logout()"
   ]
  },
  {
   "cell_type": "code",
   "execution_count": null,
   "metadata": {},
   "outputs": [],
   "source": [
    "from landsatxplore.earthexplorer import EarthExplorer\n",
    "\n",
    "ee = EarthExplorer(username, password)\n",
    "\n",
    "ee.download('LT51960471995178MPS00', output_dir='./data')\n",
    "\n",
    "ee.logout()"
   ]
  }
 ],
 "metadata": {
  "kernelspec": {
   "display_name": "Python 3",
   "language": "python",
   "name": "python3"
  },
  "language_info": {
   "codemirror_mode": {
    "name": "ipython",
    "version": 3
   },
   "file_extension": ".py",
   "mimetype": "text/x-python",
   "name": "python",
   "nbconvert_exporter": "python",
   "pygments_lexer": "ipython3",
   "version": "3.11.9"
  }
 },
 "nbformat": 4,
 "nbformat_minor": 2
}
