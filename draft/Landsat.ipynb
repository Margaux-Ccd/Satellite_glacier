{
 "cells": [
  {
   "cell_type": "markdown",
   "metadata": {},
   "source": [
    "# Try Pylandsat"
   ]
  },
  {
   "cell_type": "code",
   "execution_count": 6,
   "metadata": {},
   "outputs": [
    {
     "name": "stdout",
     "output_type": "stream",
     "text": [
      "Requirement already satisfied: pylandsat in c:\\users\\marga\\documents\\epfl\\cours\\s2\\design_project\\codes\\satellite_glacier\\.venv\\lib\\site-packages (0.6.0)\n",
      "Requirement already satisfied: pandas in c:\\users\\marga\\documents\\epfl\\cours\\s2\\design_project\\codes\\satellite_glacier\\.venv\\lib\\site-packages (2.2.3)\n",
      "Requirement already satisfied: geopandas in c:\\users\\marga\\documents\\epfl\\cours\\s2\\design_project\\codes\\satellite_glacier\\.venv\\lib\\site-packages (1.0.1)\n",
      "Collecting matplotlib\n",
      "  Using cached matplotlib-3.10.1-cp311-cp311-win_amd64.whl.metadata (11 kB)\n",
      "Requirement already satisfied: appdirs in c:\\users\\marga\\documents\\epfl\\cours\\s2\\design_project\\codes\\satellite_glacier\\.venv\\lib\\site-packages (from pylandsat) (1.4.4)\n",
      "Requirement already satisfied: click in c:\\users\\marga\\documents\\epfl\\cours\\s2\\design_project\\codes\\satellite_glacier\\.venv\\lib\\site-packages (from pylandsat) (8.1.8)\n",
      "Requirement already satisfied: fiona in c:\\users\\marga\\documents\\epfl\\cours\\s2\\design_project\\codes\\satellite_glacier\\.venv\\lib\\site-packages (from pylandsat) (1.10.1)\n",
      "Requirement already satisfied: geopy in c:\\users\\marga\\documents\\epfl\\cours\\s2\\design_project\\codes\\satellite_glacier\\.venv\\lib\\site-packages (from pylandsat) (2.4.1)\n",
      "Requirement already satisfied: numpy in c:\\users\\marga\\documents\\epfl\\cours\\s2\\design_project\\codes\\satellite_glacier\\.venv\\lib\\site-packages (from pylandsat) (2.2.3)\n",
      "Requirement already satisfied: python-dateutil in c:\\users\\marga\\documents\\epfl\\cours\\s2\\design_project\\codes\\satellite_glacier\\.venv\\lib\\site-packages (from pylandsat) (2.9.0.post0)\n",
      "Requirement already satisfied: rasterio<2.0,>=1.0 in c:\\users\\marga\\documents\\epfl\\cours\\s2\\design_project\\codes\\satellite_glacier\\.venv\\lib\\site-packages (from pylandsat) (1.4.3)\n",
      "Requirement already satisfied: requests<3.0,>=2.20 in c:\\users\\marga\\documents\\epfl\\cours\\s2\\design_project\\codes\\satellite_glacier\\.venv\\lib\\site-packages (from pylandsat) (2.32.3)\n",
      "Requirement already satisfied: shapely in c:\\users\\marga\\documents\\epfl\\cours\\s2\\design_project\\codes\\satellite_glacier\\.venv\\lib\\site-packages (from pylandsat) (2.0.7)\n",
      "Requirement already satisfied: tqdm in c:\\users\\marga\\documents\\epfl\\cours\\s2\\design_project\\codes\\satellite_glacier\\.venv\\lib\\site-packages (from pylandsat) (4.67.1)\n",
      "Requirement already satisfied: pytz>=2020.1 in c:\\users\\marga\\documents\\epfl\\cours\\s2\\design_project\\codes\\satellite_glacier\\.venv\\lib\\site-packages (from pandas) (2025.1)\n",
      "Requirement already satisfied: tzdata>=2022.7 in c:\\users\\marga\\documents\\epfl\\cours\\s2\\design_project\\codes\\satellite_glacier\\.venv\\lib\\site-packages (from pandas) (2025.1)\n",
      "Requirement already satisfied: pyogrio>=0.7.2 in c:\\users\\marga\\documents\\epfl\\cours\\s2\\design_project\\codes\\satellite_glacier\\.venv\\lib\\site-packages (from geopandas) (0.10.0)\n",
      "Requirement already satisfied: packaging in c:\\users\\marga\\documents\\epfl\\cours\\s2\\design_project\\codes\\satellite_glacier\\.venv\\lib\\site-packages (from geopandas) (24.2)\n",
      "Requirement already satisfied: pyproj>=3.3.0 in c:\\users\\marga\\documents\\epfl\\cours\\s2\\design_project\\codes\\satellite_glacier\\.venv\\lib\\site-packages (from geopandas) (3.7.1)\n",
      "Collecting contourpy>=1.0.1 (from matplotlib)\n",
      "  Using cached contourpy-1.3.1-cp311-cp311-win_amd64.whl.metadata (5.4 kB)\n",
      "Collecting cycler>=0.10 (from matplotlib)\n",
      "  Using cached cycler-0.12.1-py3-none-any.whl.metadata (3.8 kB)\n",
      "Collecting fonttools>=4.22.0 (from matplotlib)\n",
      "  Using cached fonttools-4.56.0-cp311-cp311-win_amd64.whl.metadata (103 kB)\n",
      "Collecting kiwisolver>=1.3.1 (from matplotlib)\n",
      "  Using cached kiwisolver-1.4.8-cp311-cp311-win_amd64.whl.metadata (6.3 kB)\n",
      "Collecting pillow>=8 (from matplotlib)\n",
      "  Using cached pillow-11.1.0-cp311-cp311-win_amd64.whl.metadata (9.3 kB)\n",
      "Requirement already satisfied: pyparsing>=2.3.1 in c:\\users\\marga\\documents\\epfl\\cours\\s2\\design_project\\codes\\satellite_glacier\\.venv\\lib\\site-packages (from matplotlib) (3.2.1)\n",
      "Requirement already satisfied: certifi in c:\\users\\marga\\documents\\epfl\\cours\\s2\\design_project\\codes\\satellite_glacier\\.venv\\lib\\site-packages (from pyogrio>=0.7.2->geopandas) (2025.1.31)\n",
      "Requirement already satisfied: six>=1.5 in c:\\users\\marga\\documents\\epfl\\cours\\s2\\design_project\\codes\\satellite_glacier\\.venv\\lib\\site-packages (from python-dateutil->pylandsat) (1.17.0)\n",
      "Requirement already satisfied: affine in c:\\users\\marga\\documents\\epfl\\cours\\s2\\design_project\\codes\\satellite_glacier\\.venv\\lib\\site-packages (from rasterio<2.0,>=1.0->pylandsat) (2.4.0)\n",
      "Requirement already satisfied: attrs in c:\\users\\marga\\documents\\epfl\\cours\\s2\\design_project\\codes\\satellite_glacier\\.venv\\lib\\site-packages (from rasterio<2.0,>=1.0->pylandsat) (25.3.0)\n",
      "Requirement already satisfied: cligj>=0.5 in c:\\users\\marga\\documents\\epfl\\cours\\s2\\design_project\\codes\\satellite_glacier\\.venv\\lib\\site-packages (from rasterio<2.0,>=1.0->pylandsat) (0.7.2)\n",
      "Requirement already satisfied: click-plugins in c:\\users\\marga\\documents\\epfl\\cours\\s2\\design_project\\codes\\satellite_glacier\\.venv\\lib\\site-packages (from rasterio<2.0,>=1.0->pylandsat) (1.1.1)\n",
      "Requirement already satisfied: colorama in c:\\users\\marga\\documents\\epfl\\cours\\s2\\design_project\\codes\\satellite_glacier\\.venv\\lib\\site-packages (from click->pylandsat) (0.4.6)\n",
      "Requirement already satisfied: charset-normalizer<4,>=2 in c:\\users\\marga\\documents\\epfl\\cours\\s2\\design_project\\codes\\satellite_glacier\\.venv\\lib\\site-packages (from requests<3.0,>=2.20->pylandsat) (3.4.1)\n",
      "Requirement already satisfied: idna<4,>=2.5 in c:\\users\\marga\\documents\\epfl\\cours\\s2\\design_project\\codes\\satellite_glacier\\.venv\\lib\\site-packages (from requests<3.0,>=2.20->pylandsat) (3.10)\n",
      "Requirement already satisfied: urllib3<3,>=1.21.1 in c:\\users\\marga\\documents\\epfl\\cours\\s2\\design_project\\codes\\satellite_glacier\\.venv\\lib\\site-packages (from requests<3.0,>=2.20->pylandsat) (2.3.0)\n",
      "Requirement already satisfied: geographiclib<3,>=1.52 in c:\\users\\marga\\documents\\epfl\\cours\\s2\\design_project\\codes\\satellite_glacier\\.venv\\lib\\site-packages (from geopy->pylandsat) (2.0)\n",
      "Using cached matplotlib-3.10.1-cp311-cp311-win_amd64.whl (8.1 MB)\n",
      "Using cached contourpy-1.3.1-cp311-cp311-win_amd64.whl (219 kB)\n",
      "Using cached cycler-0.12.1-py3-none-any.whl (8.3 kB)\n",
      "Using cached fonttools-4.56.0-cp311-cp311-win_amd64.whl (2.2 MB)\n",
      "Using cached kiwisolver-1.4.8-cp311-cp311-win_amd64.whl (71 kB)\n",
      "Using cached pillow-11.1.0-cp311-cp311-win_amd64.whl (2.6 MB)\n",
      "Installing collected packages: pillow, kiwisolver, fonttools, cycler, contourpy, matplotlib\n",
      "Successfully installed contourpy-1.3.1 cycler-0.12.1 fonttools-4.56.0 kiwisolver-1.4.8 matplotlib-3.10.1 pillow-11.1.0\n",
      "Note: you may need to restart the kernel to use updated packages.\n"
     ]
    }
   ],
   "source": [
    "pip install pylandsat pandas geopandas matplotlib"
   ]
  },
  {
   "cell_type": "code",
   "execution_count": 1,
   "metadata": {},
   "outputs": [
    {
     "name": "stderr",
     "output_type": "stream",
     "text": [
      "c:\\Users\\marga\\Documents\\EPFL\\Cours\\S2\\Design_project\\codes\\Satellite_glacier\\.venv\\Lib\\site-packages\\rasterio\\path.py:15: RasterioDeprecationWarning: rasterio.path will be removed in version 1.4.\n",
      "  warnings.warn(\n"
     ]
    },
    {
     "ename": "OperationalError",
     "evalue": "Le module spécifié est introuvable.\r\n",
     "output_type": "error",
     "traceback": [
      "\u001b[31m---------------------------------------------------------------------------\u001b[39m",
      "\u001b[31mOperationalError\u001b[39m                          Traceback (most recent call last)",
      "\u001b[36mCell\u001b[39m\u001b[36m \u001b[39m\u001b[32mIn[1]\u001b[39m\u001b[32m, line 13\u001b[39m\n\u001b[32m     10\u001b[39m geom = Point(\u001b[32m4.34\u001b[39m, \u001b[32m50.85\u001b[39m)\n\u001b[32m     12\u001b[39m \u001b[38;5;66;03m# Results are returned as a list\u001b[39;00m\n\u001b[32m---> \u001b[39m\u001b[32m13\u001b[39m scenes = \u001b[43mcatalog\u001b[49m\u001b[43m.\u001b[49m\u001b[43msearch\u001b[49m\u001b[43m(\u001b[49m\n\u001b[32m     14\u001b[39m \u001b[43m    \u001b[49m\u001b[43mbegin\u001b[49m\u001b[43m=\u001b[49m\u001b[43mbegin\u001b[49m\u001b[43m,\u001b[49m\n\u001b[32m     15\u001b[39m \u001b[43m    \u001b[49m\u001b[43mend\u001b[49m\u001b[43m=\u001b[49m\u001b[43mend\u001b[49m\u001b[43m,\u001b[49m\n\u001b[32m     16\u001b[39m \u001b[43m    \u001b[49m\u001b[43mgeom\u001b[49m\u001b[43m=\u001b[49m\u001b[43mgeom\u001b[49m\u001b[43m,\u001b[49m\n\u001b[32m     17\u001b[39m \u001b[43m    \u001b[49m\u001b[43msensors\u001b[49m\u001b[43m=\u001b[49m\u001b[43m[\u001b[49m\u001b[33;43m'\u001b[39;49m\u001b[33;43mLE07\u001b[39;49m\u001b[33;43m'\u001b[39;49m\u001b[43m,\u001b[49m\u001b[43m \u001b[49m\u001b[33;43m'\u001b[39;49m\u001b[33;43mLC08\u001b[39;49m\u001b[33;43m'\u001b[39;49m\u001b[43m]\u001b[49m\n\u001b[32m     18\u001b[39m \u001b[43m)\u001b[49m\n\u001b[32m     20\u001b[39m \u001b[38;5;66;03m# Get the product ID of the first scene\u001b[39;00m\n\u001b[32m     21\u001b[39m product_id = scenes[\u001b[32m0\u001b[39m].get(\u001b[33m\"\u001b[39m\u001b[33mproduct_id\u001b[39m\u001b[33m\"\u001b[39m)\n",
      "\u001b[36mFile \u001b[39m\u001b[32mc:\\Users\\marga\\Documents\\EPFL\\Cours\\S2\\Design_project\\codes\\Satellite_glacier\\.venv\\Lib\\site-packages\\pylandsat\\catalog.py:97\u001b[39m, in \u001b[36mCatalog.search\u001b[39m\u001b[34m(self, begin, end, path, row, geom, maxcloud, sensors, tiers, slc)\u001b[39m\n\u001b[32m     93\u001b[39m     scenes = \u001b[38;5;28mself\u001b[39m.db.query(\n\u001b[32m     94\u001b[39m         query=queries.CATALOG_SEARCH_PATHROW,\n\u001b[32m     95\u001b[39m         params=(path, row, begin, end, maxcloud, sensors, tiers))\n\u001b[32m     96\u001b[39m \u001b[38;5;28;01melif\u001b[39;00m geom:\n\u001b[32m---> \u001b[39m\u001b[32m97\u001b[39m     scenes = \u001b[38;5;28;43mself\u001b[39;49m\u001b[43m.\u001b[49m\u001b[43mdb\u001b[49m\u001b[43m.\u001b[49m\u001b[43mquery\u001b[49m\u001b[43m(\u001b[49m\n\u001b[32m     98\u001b[39m \u001b[43m        \u001b[49m\u001b[43mquery\u001b[49m\u001b[43m=\u001b[49m\u001b[43mqueries\u001b[49m\u001b[43m.\u001b[49m\u001b[43mCATALOG_SEARCH_GEOM\u001b[49m\u001b[43m,\u001b[49m\n\u001b[32m     99\u001b[39m \u001b[43m        \u001b[49m\u001b[43mparams\u001b[49m\u001b[43m=\u001b[49m\u001b[43m(\u001b[49m\u001b[43mgeom\u001b[49m\u001b[43m,\u001b[49m\u001b[43m \u001b[49m\u001b[43mbegin\u001b[49m\u001b[43m,\u001b[49m\u001b[43m \u001b[49m\u001b[43mend\u001b[49m\u001b[43m,\u001b[49m\u001b[43m \u001b[49m\u001b[43mmaxcloud\u001b[49m\u001b[43m,\u001b[49m\u001b[43m \u001b[49m\u001b[43msensors\u001b[49m\u001b[43m,\u001b[49m\u001b[43m \u001b[49m\u001b[43mtiers\u001b[49m\u001b[43m,\u001b[49m\u001b[43m \u001b[49m\u001b[43mgeom\u001b[49m\u001b[43m)\u001b[49m\u001b[43m)\u001b[49m\n\u001b[32m    100\u001b[39m \u001b[38;5;28;01melse\u001b[39;00m:\n\u001b[32m    101\u001b[39m     \u001b[38;5;28;01mraise\u001b[39;00m \u001b[38;5;167;01mValueError\u001b[39;00m(\u001b[33m'\u001b[39m\u001b[33mNo spatial information provided.\u001b[39m\u001b[33m'\u001b[39m)\n",
      "\u001b[36mFile \u001b[39m\u001b[32mc:\\Users\\marga\\Documents\\EPFL\\Cours\\S2\\Design_project\\codes\\Satellite_glacier\\.venv\\Lib\\site-packages\\pylandsat\\database.py:67\u001b[39m, in \u001b[36mLandsatDB.query\u001b[39m\u001b[34m(self, query, params)\u001b[39m\n\u001b[32m     65\u001b[39m \u001b[38;5;28;01mdef\u001b[39;00m\u001b[38;5;250m \u001b[39m\u001b[34mquery\u001b[39m(\u001b[38;5;28mself\u001b[39m, query, params=\u001b[38;5;28;01mNone\u001b[39;00m):\n\u001b[32m     66\u001b[39m \u001b[38;5;250m    \u001b[39m\u001b[33;03m\"\"\"Perform an SQL query and returns the result as a dict.\"\"\"\u001b[39;00m\n\u001b[32m---> \u001b[39m\u001b[32m67\u001b[39m     conn = \u001b[38;5;28;43mself\u001b[39;49m\u001b[43m.\u001b[49m\u001b[43mconnect\u001b[49m\u001b[43m(\u001b[49m\u001b[43m)\u001b[49m\n\u001b[32m     68\u001b[39m     conn.row_factory = sqlite3.Row\n\u001b[32m     69\u001b[39m     c = conn.cursor()\n",
      "\u001b[36mFile \u001b[39m\u001b[32mc:\\Users\\marga\\Documents\\EPFL\\Cours\\S2\\Design_project\\codes\\Satellite_glacier\\.venv\\Lib\\site-packages\\pylandsat\\database.py:62\u001b[39m, in \u001b[36mLandsatDB.connect\u001b[39m\u001b[34m(self)\u001b[39m\n\u001b[32m     60\u001b[39m conn = sqlite3.connect(\u001b[38;5;28mself\u001b[39m.path)\n\u001b[32m     61\u001b[39m conn.enable_load_extension(\u001b[38;5;28;01mTrue\u001b[39;00m)\n\u001b[32m---> \u001b[39m\u001b[32m62\u001b[39m \u001b[43mconn\u001b[49m\u001b[43m.\u001b[49m\u001b[43mexecute\u001b[49m\u001b[43m(\u001b[49m\u001b[33;43m\"\u001b[39;49m\u001b[33;43mSELECT load_extension(\u001b[39;49m\u001b[33;43m'\u001b[39;49m\u001b[33;43mmod_spatialite\u001b[39;49m\u001b[33;43m'\u001b[39;49m\u001b[33;43m);\u001b[39;49m\u001b[33;43m\"\u001b[39;49m\u001b[43m)\u001b[49m\n\u001b[32m     63\u001b[39m \u001b[38;5;28;01mreturn\u001b[39;00m conn\n",
      "\u001b[31mOperationalError\u001b[39m: Le module spécifié est introuvable.\r\n"
     ]
    }
   ],
   "source": [
    "from datetime import datetime\n",
    "\n",
    "from shapely.geometry import Point\n",
    "from pylandsat import Catalog, Product\n",
    "import pandas as pd\n",
    "catalog = Catalog()\n",
    "\n",
    "begin = datetime(2010, 1, 1)\n",
    "end = datetime(2020, 1, 1)\n",
    "geom = Point(4.34, 50.85)\n",
    "\n",
    "# Results are returned as a list\n",
    "scenes = catalog.search(\n",
    "    begin=begin,\n",
    "    end=end,\n",
    "    geom=geom,\n",
    "    sensors=['LE07', 'LC08']\n",
    ")\n",
    "\n",
    "# Get the product ID of the first scene\n",
    "product_id = scenes[0].get(\"product_id\")\n",
    "\n",
    "# Download the scene\n",
    "product = Product(product_id)\n",
    "product.download(out_dir='data')\n",
    "\n",
    "# The output of catalog.search() can be converted to a DataFrame\n",
    "# for further processing. For instance:\n",
    "# Get the product ID of the scene with the lowest cloud cover\n",
    "\n",
    "\n",
    "df = pd.DataFrame.from_dict(scenes)\n",
    "df.set_index([\"product_id\"], inplace=True)\n",
    "df = df.sort_values(by='cloud_cover', ascending=True)\n",
    "product_id = df.index[0]"
   ]
  },
  {
   "cell_type": "code",
   "execution_count": 4,
   "metadata": {},
   "outputs": [
    {
     "ename": "ImportError",
     "evalue": "cannot import name 'PyLandsat' from 'pylandsat' (c:\\Users\\marga\\Documents\\EPFL\\Cours\\S2\\Design_project\\codes\\Satellite_glacier\\.venv\\Lib\\site-packages\\pylandsat\\__init__.py)",
     "output_type": "error",
     "traceback": [
      "\u001b[31m---------------------------------------------------------------------------\u001b[39m",
      "\u001b[31mImportError\u001b[39m                               Traceback (most recent call last)",
      "\u001b[36mCell\u001b[39m\u001b[36m \u001b[39m\u001b[32mIn[4]\u001b[39m\u001b[32m, line 3\u001b[39m\n\u001b[32m      1\u001b[39m \u001b[38;5;28;01mimport\u001b[39;00m\u001b[38;5;250m \u001b[39m\u001b[34;01mjson\u001b[39;00m\n\u001b[32m      2\u001b[39m \u001b[38;5;28;01mimport\u001b[39;00m\u001b[38;5;250m \u001b[39m\u001b[34;01mgeopandas\u001b[39;00m\u001b[38;5;250m \u001b[39m\u001b[38;5;28;01mas\u001b[39;00m\u001b[38;5;250m \u001b[39m\u001b[34;01mgpd\u001b[39;00m\n\u001b[32m----> \u001b[39m\u001b[32m3\u001b[39m \u001b[38;5;28;01mfrom\u001b[39;00m\u001b[38;5;250m \u001b[39m\u001b[34;01mpylandsat\u001b[39;00m\u001b[38;5;250m \u001b[39m\u001b[38;5;28;01mimport\u001b[39;00m PyLandsat\n\u001b[32m      5\u001b[39m \u001b[38;5;66;03m# Load credentials from the configuration file\u001b[39;00m\n\u001b[32m      6\u001b[39m \u001b[38;5;28;01mwith\u001b[39;00m \u001b[38;5;28mopen\u001b[39m(\u001b[33m'\u001b[39m\u001b[33mconfigLandsat.json\u001b[39m\u001b[33m'\u001b[39m) \u001b[38;5;28;01mas\u001b[39;00m f:\n",
      "\u001b[31mImportError\u001b[39m: cannot import name 'PyLandsat' from 'pylandsat' (c:\\Users\\marga\\Documents\\EPFL\\Cours\\S2\\Design_project\\codes\\Satellite_glacier\\.venv\\Lib\\site-packages\\pylandsat\\__init__.py)"
     ]
    }
   ],
   "source": [
    "import json\n",
    "import geopandas as gpd\n",
    "from pylandsat import PyLandsat\n",
    "\n",
    "# Load credentials from the configuration file\n",
    "with open('configLandsat.json') as f:\n",
    "    config = json.load(f)\n",
    "\n",
    "username = config['username']\n",
    "password = config['password']\n",
    "\n",
    "# Initialize the PyLandsat object\n",
    "landsat = PyLandsat(username=username, password=password)\n",
    "\n",
    "# Read the shapefile\n",
    "shapefile_path = r'C:\\Users\\marga\\Documents\\EPFL\\Cours\\S2\\Design_project\\Vevey2.shp'\n",
    "gdf = gpd.read_file(shapefile_path)\n",
    "\n",
    "# Extract the geometry (assuming a single feature in the shapefile)\n",
    "geometry = gdf.geometry[0]\n",
    "\n",
    "# Define the search parameters\n",
    "start_date = '2023-01-01'\n",
    "end_date = '2023-12-31'\n",
    "max_cloud_cover = 10\n",
    "\n",
    "# Convert the geometry to a bounding box (minx, miny, maxx, maxy)\n",
    "minx, miny, maxx, maxy = geometry.bounds\n",
    "\n",
    "# Search for Landsat scenes within the bounding box\n",
    "scenes = landsat.search_by_coordinates(\n",
    "    start_date, end_date, minx, miny, maxx, maxy, max_cloud_cover\n",
    ")\n",
    "\n",
    "# Download the first scene in the search results\n",
    "if scenes:\n",
    "    landsat.download(scenes[0]['entityId'], output_dir='./landsat_data')\n",
    "else:\n",
    "    print(\"No scenes found matching the criteria.\")\n"
   ]
  },
  {
   "cell_type": "code",
   "execution_count": 7,
   "metadata": {},
   "outputs": [
    {
     "ename": "FileNotFoundError",
     "evalue": "[WinError 3] Le chemin d’accès spécifié est introuvable: 'c:\\\\Users\\\\marga\\\\Documents\\\\EPFL\\\\Cours\\\\S2\\\\Design_project\\\\codes\\\\Satellite_glacier\\\\draft\\\\data\\\\LE07_L1TP_205050_19991104_20170216_01_T1'",
     "output_type": "error",
     "traceback": [
      "\u001b[31m---------------------------------------------------------------------------\u001b[39m",
      "\u001b[31mFileNotFoundError\u001b[39m                         Traceback (most recent call last)",
      "\u001b[36mCell\u001b[39m\u001b[36m \u001b[39m\u001b[32mIn[7]\u001b[39m\u001b[32m, line 7\u001b[39m\n\u001b[32m      4\u001b[39m \u001b[38;5;28;01mfrom\u001b[39;00m\u001b[38;5;250m \u001b[39m\u001b[34;01mpylandsat\u001b[39;00m\u001b[38;5;250m \u001b[39m\u001b[38;5;28;01mimport\u001b[39;00m Scene\n\u001b[32m      6\u001b[39m \u001b[38;5;66;03m# Access data\u001b[39;00m\n\u001b[32m----> \u001b[39m\u001b[32m7\u001b[39m scene = \u001b[43mScene\u001b[49m\u001b[43m(\u001b[49m\u001b[33;43m'\u001b[39;49m\u001b[33;43mdata/LE07_L1TP_205050_19991104_20170216_01_T1\u001b[39;49m\u001b[33;43m'\u001b[39;49m\u001b[43m)\u001b[49m\n\u001b[32m      8\u001b[39m \u001b[38;5;28mprint\u001b[39m(scene.available_bands())\n\u001b[32m      9\u001b[39m \u001b[38;5;28mprint\u001b[39m(scene.product_id)\n",
      "\u001b[36mFile \u001b[39m\u001b[32mc:\\Users\\marga\\Documents\\EPFL\\Cours\\S2\\Design_project\\codes\\Satellite_glacier\\.venv\\Lib\\site-packages\\pylandsat\\scene.py:102\u001b[39m, in \u001b[36mScene.__init__\u001b[39m\u001b[34m(self, scene_dir)\u001b[39m\n\u001b[32m    100\u001b[39m \u001b[38;5;250m\u001b[39m\u001b[33;03m\"\"\"Landsat Level-1 scene.\"\"\"\u001b[39;00m\n\u001b[32m    101\u001b[39m \u001b[38;5;28mself\u001b[39m.dir = os.path.abspath(scene_dir)\n\u001b[32m--> \u001b[39m\u001b[32m102\u001b[39m \u001b[38;5;28mself\u001b[39m.mtl = \u001b[38;5;28;43mself\u001b[39;49m\u001b[43m.\u001b[49m\u001b[43m_parse_mtl\u001b[49m\u001b[43m(\u001b[49m\u001b[43m)\u001b[49m\n",
      "\u001b[36mFile \u001b[39m\u001b[32mc:\\Users\\marga\\Documents\\EPFL\\Cours\\S2\\Design_project\\codes\\Satellite_glacier\\.venv\\Lib\\site-packages\\pylandsat\\scene.py:149\u001b[39m, in \u001b[36mScene._parse_mtl\u001b[39m\u001b[34m(self)\u001b[39m\n\u001b[32m    141\u001b[39m \u001b[38;5;250m\u001b[39m\u001b[33;03m\"\"\"Parse MTL metadata file.\u001b[39;00m\n\u001b[32m    142\u001b[39m \n\u001b[32m    143\u001b[39m \u001b[33;03mReturns\u001b[39;00m\n\u001b[32m   (...)\u001b[39m\u001b[32m    146\u001b[39m \u001b[33;03m    MTL metadata in a dictionnary.\u001b[39;00m\n\u001b[32m    147\u001b[39m \u001b[33;03m\"\"\"\u001b[39;00m\n\u001b[32m    148\u001b[39m mtl = {}\n\u001b[32m--> \u001b[39m\u001b[32m149\u001b[39m fpath = \u001b[38;5;28;43mself\u001b[39;49m\u001b[43m.\u001b[49m\u001b[43mfile_path\u001b[49m\u001b[43m(\u001b[49m\u001b[33;43m'\u001b[39;49m\u001b[33;43mMTL\u001b[39;49m\u001b[33;43m'\u001b[39;49m\u001b[43m)\u001b[49m\n\u001b[32m    150\u001b[39m f = \u001b[38;5;28mopen\u001b[39m(fpath)\n\u001b[32m    151\u001b[39m \u001b[38;5;28;01mfor\u001b[39;00m line \u001b[38;5;129;01min\u001b[39;00m f.readlines():\n",
      "\u001b[36mFile \u001b[39m\u001b[32mc:\\Users\\marga\\Documents\\EPFL\\Cours\\S2\\Design_project\\codes\\Satellite_glacier\\.venv\\Lib\\site-packages\\pylandsat\\scene.py:135\u001b[39m, in \u001b[36mScene.file_path\u001b[39m\u001b[34m(self, suffix)\u001b[39m\n\u001b[32m    133\u001b[39m \u001b[38;5;28;01mdef\u001b[39;00m\u001b[38;5;250m \u001b[39m\u001b[34mfile_path\u001b[39m(\u001b[38;5;28mself\u001b[39m, suffix):\n\u001b[32m    134\u001b[39m \u001b[38;5;250m    \u001b[39m\u001b[33;03m\"\"\"Find file path according to a given file suffix.\"\"\"\u001b[39;00m\n\u001b[32m--> \u001b[39m\u001b[32m135\u001b[39m     \u001b[38;5;28;01mfor\u001b[39;00m fname \u001b[38;5;129;01min\u001b[39;00m \u001b[38;5;28;43mself\u001b[39;49m\u001b[43m.\u001b[49m\u001b[43m_available_files\u001b[49m\u001b[43m(\u001b[49m\u001b[43m)\u001b[49m:\n\u001b[32m    136\u001b[39m         \u001b[38;5;28;01mif\u001b[39;00m suffix == _suffix_from_fname(fname):\n\u001b[32m    137\u001b[39m             \u001b[38;5;28;01mreturn\u001b[39;00m os.path.join(\u001b[38;5;28mself\u001b[39m.dir, fname)\n",
      "\u001b[36mFile \u001b[39m\u001b[32mc:\\Users\\marga\\Documents\\EPFL\\Cours\\S2\\Design_project\\codes\\Satellite_glacier\\.venv\\Lib\\site-packages\\pylandsat\\scene.py:120\u001b[39m, in \u001b[36mScene._available_files\u001b[39m\u001b[34m(self)\u001b[39m\n\u001b[32m    118\u001b[39m \u001b[38;5;28;01mdef\u001b[39;00m\u001b[38;5;250m \u001b[39m\u001b[34m_available_files\u001b[39m(\u001b[38;5;28mself\u001b[39m):\n\u001b[32m    119\u001b[39m \u001b[38;5;250m    \u001b[39m\u001b[33;03m\"\"\"List available files in the scene directory.\"\"\"\u001b[39;00m\n\u001b[32m--> \u001b[39m\u001b[32m120\u001b[39m     \u001b[38;5;28;01mreturn\u001b[39;00m [f \u001b[38;5;28;01mfor\u001b[39;00m f \u001b[38;5;129;01min\u001b[39;00m \u001b[43mos\u001b[49m\u001b[43m.\u001b[49m\u001b[43mlistdir\u001b[49m\u001b[43m(\u001b[49m\u001b[38;5;28;43mself\u001b[39;49m\u001b[43m.\u001b[49m\u001b[43mdir\u001b[49m\u001b[43m)\u001b[49m\n\u001b[32m    121\u001b[39m             \u001b[38;5;28;01mif\u001b[39;00m f.endswith(\u001b[33m'\u001b[39m\u001b[33m.TIF\u001b[39m\u001b[33m'\u001b[39m) \u001b[38;5;129;01mor\u001b[39;00m f.endswith(\u001b[33m'\u001b[39m\u001b[33m.txt\u001b[39m\u001b[33m'\u001b[39m)]\n",
      "\u001b[31mFileNotFoundError\u001b[39m: [WinError 3] Le chemin d’accès spécifié est introuvable: 'c:\\\\Users\\\\marga\\\\Documents\\\\EPFL\\\\Cours\\\\S2\\\\Design_project\\\\codes\\\\Satellite_glacier\\\\draft\\\\data\\\\LE07_L1TP_205050_19991104_20170216_01_T1'"
     ]
    }
   ],
   "source": [
    "import numpy as np\n",
    "import rasterio\n",
    "import matplotlib.pyplot as plt\n",
    "from pylandsat import Scene\n",
    "\n",
    "# Access data\n",
    "scene = Scene('data/LE07_L1TP_205050_19991104_20170216_01_T1')\n",
    "print(scene.available_bands())\n",
    "print(scene.product_id)\n",
    "print(scene.sensor)\n",
    "print(scene.date)\n",
    "\n",
    "# Access MTL metadata\n",
    "print(scene.mtl['IMAGE_ATTRIBUTES']['CLOUD_COVER_LAND'])\n",
    "\n",
    "# Quality band\n",
    "plt.imshow(scene.quality.read())\n",
    "\n",
    "# Access band data\n",
    "nir = scene.nir.read(1)\n",
    "red = scene.red.read(1)\n",
    "ndvi = (nir + red) / (nir - red)\n",
    "\n",
    "# Access band metadata\n",
    "print(scene.nir.bname)\n",
    "print(scene.nir.fname)\n",
    "print(scene.nir.profile)\n",
    "print(scene.nir.width, scene.nir.height)\n",
    "print(scene.nir.crs)\n",
    "\n",
    "# Use reflectance values instead of DN\n",
    "nir = scene.nir.to_reflectance()\n",
    "\n",
    "# ..or brightness temperature\n",
    "tirs = scene.tirs.to_brightness_temperature()\n",
    "\n",
    "# Save file to disk\n",
    "with rasterio.open('temperature.tif', 'w', **scene.tirs.profile) as dst:\n",
    "    dst.write(tirs, 1)"
   ]
  },
  {
   "cell_type": "markdown",
   "metadata": {},
   "source": [
    "# Using Landsatxplore"
   ]
  },
  {
   "cell_type": "code",
   "execution_count": null,
   "metadata": {},
   "outputs": [
    {
     "name": "stdout",
     "output_type": "stream",
     "text": [
      "Requirement already satisfied: landsatxplore in c:\\users\\marga\\appdata\\local\\packages\\pythonsoftwarefoundation.python.3.11_qbz5n2kfra8p0\\localcache\\local-packages\\python311\\site-packages (0.15.0)\n",
      "Collecting click<8.0,>=7.1 (from landsatxplore)\n",
      "  Using cached click-7.1.2-py2.py3-none-any.whl.metadata (2.9 kB)\n",
      "Requirement already satisfied: python-dateutil<3.0,>=2.8 in c:\\users\\marga\\appdata\\local\\packages\\pythonsoftwarefoundation.python.3.11_qbz5n2kfra8p0\\localcache\\local-packages\\python311\\site-packages (from landsatxplore) (2.8.2)\n",
      "Requirement already satisfied: requests<3.0,>=2.20 in c:\\users\\marga\\appdata\\local\\packages\\pythonsoftwarefoundation.python.3.11_qbz5n2kfra8p0\\localcache\\local-packages\\python311\\site-packages (from landsatxplore) (2.32.3)\n",
      "Requirement already satisfied: shapely<2.0,>=1.7 in c:\\users\\marga\\appdata\\local\\packages\\pythonsoftwarefoundation.python.3.11_qbz5n2kfra8p0\\localcache\\local-packages\\python311\\site-packages (from landsatxplore) (1.8.5.post1)\n",
      "Requirement already satisfied: tqdm<5.0,>=4.58 in c:\\users\\marga\\appdata\\local\\packages\\pythonsoftwarefoundation.python.3.11_qbz5n2kfra8p0\\localcache\\local-packages\\python311\\site-packages (from landsatxplore) (4.66.6)\n",
      "Requirement already satisfied: six>=1.5 in c:\\users\\marga\\appdata\\local\\packages\\pythonsoftwarefoundation.python.3.11_qbz5n2kfra8p0\\localcache\\local-packages\\python311\\site-packages (from python-dateutil<3.0,>=2.8->landsatxplore) (1.16.0)\n",
      "Requirement already satisfied: charset-normalizer<4,>=2 in c:\\users\\marga\\appdata\\local\\packages\\pythonsoftwarefoundation.python.3.11_qbz5n2kfra8p0\\localcache\\local-packages\\python311\\site-packages (from requests<3.0,>=2.20->landsatxplore) (3.4.0)\n",
      "Requirement already satisfied: idna<4,>=2.5 in c:\\users\\marga\\appdata\\local\\packages\\pythonsoftwarefoundation.python.3.11_qbz5n2kfra8p0\\localcache\\local-packages\\python311\\site-packages (from requests<3.0,>=2.20->landsatxplore) (3.4)\n",
      "Requirement already satisfied: urllib3<3,>=1.21.1 in c:\\users\\marga\\appdata\\local\\packages\\pythonsoftwarefoundation.python.3.11_qbz5n2kfra8p0\\localcache\\local-packages\\python311\\site-packages (from requests<3.0,>=2.20->landsatxplore) (2.2.3)\n",
      "Requirement already satisfied: certifi>=2017.4.17 in c:\\users\\marga\\appdata\\local\\packages\\pythonsoftwarefoundation.python.3.11_qbz5n2kfra8p0\\localcache\\local-packages\\python311\\site-packages (from requests<3.0,>=2.20->landsatxplore) (2024.8.30)\n",
      "Requirement already satisfied: colorama in c:\\users\\marga\\appdata\\local\\packages\\pythonsoftwarefoundation.python.3.11_qbz5n2kfra8p0\\localcache\\local-packages\\python311\\site-packages (from tqdm<5.0,>=4.58->landsatxplore) (0.4.6)\n",
      "Using cached click-7.1.2-py2.py3-none-any.whl (82 kB)\n",
      "Installing collected packages: click\n",
      "  Attempting uninstall: click\n",
      "    Found existing installation: click 8.1.8\n",
      "    Uninstalling click-8.1.8:\n",
      "      Successfully uninstalled click-8.1.8\n",
      "Successfully installed click-7.1.2\n",
      "Note: you may need to restart the kernel to use updated packages.\n"
     ]
    },
    {
     "name": "stderr",
     "output_type": "stream",
     "text": [
      "ERROR: pip's dependency resolver does not currently take into account all the packages that are installed. This behaviour is the source of the following dependency conflicts.\n",
      "fiona 1.10.1 requires click~=8.0, but you have click 7.1.2 which is incompatible.\n"
     ]
    }
   ],
   "source": [
    "pip install landsatxplore json"
   ]
  },
  {
   "cell_type": "code",
   "execution_count": null,
   "metadata": {},
   "outputs": [
    {
     "ename": "USGSError",
     "evalue": "NOT_FOUND: Invalid Endpoint.",
     "output_type": "error",
     "traceback": [
      "\u001b[1;31m---------------------------------------------------------------------------\u001b[0m",
      "\u001b[1;31mUSGSError\u001b[0m                                 Traceback (most recent call last)",
      "Cell \u001b[1;32mIn[12], line 12\u001b[0m\n\u001b[0;32m      9\u001b[0m password \u001b[38;5;241m=\u001b[39m config[\u001b[38;5;124m'\u001b[39m\u001b[38;5;124mpassword\u001b[39m\u001b[38;5;124m'\u001b[39m]\n\u001b[0;32m     11\u001b[0m \u001b[38;5;66;03m# Initialize the API instance\u001b[39;00m\n\u001b[1;32m---> 12\u001b[0m api \u001b[38;5;241m=\u001b[39m \u001b[43mAPI\u001b[49m\u001b[43m(\u001b[49m\u001b[43musername\u001b[49m\u001b[43m,\u001b[49m\u001b[43m \u001b[49m\u001b[43mpassword\u001b[49m\u001b[43m)\u001b[49m\n",
      "File \u001b[1;32m~\\AppData\\Local\\Packages\\PythonSoftwareFoundation.Python.3.11_qbz5n2kfra8p0\\LocalCache\\local-packages\\Python311\\site-packages\\landsatxplore\\api.py:35\u001b[0m, in \u001b[0;36mAPI.__init__\u001b[1;34m(self, username, password)\u001b[0m\n\u001b[0;32m     33\u001b[0m \u001b[38;5;28mself\u001b[39m\u001b[38;5;241m.\u001b[39murl \u001b[38;5;241m=\u001b[39m API_URL\n\u001b[0;32m     34\u001b[0m \u001b[38;5;28mself\u001b[39m\u001b[38;5;241m.\u001b[39msession \u001b[38;5;241m=\u001b[39m requests\u001b[38;5;241m.\u001b[39mSession()\n\u001b[1;32m---> 35\u001b[0m \u001b[38;5;28;43mself\u001b[39;49m\u001b[38;5;241;43m.\u001b[39;49m\u001b[43mlogin\u001b[49m\u001b[43m(\u001b[49m\u001b[43musername\u001b[49m\u001b[43m,\u001b[49m\u001b[43m \u001b[49m\u001b[43mpassword\u001b[49m\u001b[43m)\u001b[49m\n",
      "File \u001b[1;32m~\\AppData\\Local\\Packages\\PythonSoftwareFoundation.Python.3.11_qbz5n2kfra8p0\\LocalCache\\local-packages\\Python311\\site-packages\\landsatxplore\\api.py:103\u001b[0m, in \u001b[0;36mAPI.login\u001b[1;34m(self, username, password)\u001b[0m\n\u001b[0;32m    101\u001b[0m payload \u001b[38;5;241m=\u001b[39m {\u001b[38;5;124m\"\u001b[39m\u001b[38;5;124musername\u001b[39m\u001b[38;5;124m\"\u001b[39m: username, \u001b[38;5;124m\"\u001b[39m\u001b[38;5;124mpassword\u001b[39m\u001b[38;5;124m\"\u001b[39m: password}\n\u001b[0;32m    102\u001b[0m r \u001b[38;5;241m=\u001b[39m \u001b[38;5;28mself\u001b[39m\u001b[38;5;241m.\u001b[39msession\u001b[38;5;241m.\u001b[39mpost(login_url, json\u001b[38;5;241m.\u001b[39mdumps(payload))\n\u001b[1;32m--> 103\u001b[0m \u001b[38;5;28;43mself\u001b[39;49m\u001b[38;5;241;43m.\u001b[39;49m\u001b[43mraise_api_error\u001b[49m\u001b[43m(\u001b[49m\u001b[43mr\u001b[49m\u001b[43m)\u001b[49m\n\u001b[0;32m    104\u001b[0m \u001b[38;5;28mself\u001b[39m\u001b[38;5;241m.\u001b[39msession\u001b[38;5;241m.\u001b[39mheaders[\u001b[38;5;124m\"\u001b[39m\u001b[38;5;124mX-Auth-Token\u001b[39m\u001b[38;5;124m\"\u001b[39m] \u001b[38;5;241m=\u001b[39m r\u001b[38;5;241m.\u001b[39mjson()\u001b[38;5;241m.\u001b[39mget(\u001b[38;5;124m\"\u001b[39m\u001b[38;5;124mdata\u001b[39m\u001b[38;5;124m\"\u001b[39m)\n",
      "File \u001b[1;32m~\\AppData\\Local\\Packages\\PythonSoftwareFoundation.Python.3.11_qbz5n2kfra8p0\\LocalCache\\local-packages\\Python311\\site-packages\\landsatxplore\\api.py:55\u001b[0m, in \u001b[0;36mAPI.raise_api_error\u001b[1;34m(response)\u001b[0m\n\u001b[0;32m     53\u001b[0m     \u001b[38;5;28;01mraise\u001b[39;00m USGSRateLimitError(\u001b[38;5;124mf\u001b[39m\u001b[38;5;124m\"\u001b[39m\u001b[38;5;132;01m{\u001b[39;00merror_code\u001b[38;5;132;01m}\u001b[39;00m\u001b[38;5;124m: \u001b[39m\u001b[38;5;132;01m{\u001b[39;00merror_msg\u001b[38;5;132;01m}\u001b[39;00m\u001b[38;5;124m.\u001b[39m\u001b[38;5;124m\"\u001b[39m)\n\u001b[0;32m     54\u001b[0m \u001b[38;5;28;01melse\u001b[39;00m:\n\u001b[1;32m---> 55\u001b[0m     \u001b[38;5;28;01mraise\u001b[39;00m USGSError(\u001b[38;5;124mf\u001b[39m\u001b[38;5;124m\"\u001b[39m\u001b[38;5;132;01m{\u001b[39;00merror_code\u001b[38;5;132;01m}\u001b[39;00m\u001b[38;5;124m: \u001b[39m\u001b[38;5;132;01m{\u001b[39;00merror_msg\u001b[38;5;132;01m}\u001b[39;00m\u001b[38;5;124m.\u001b[39m\u001b[38;5;124m\"\u001b[39m)\n",
      "\u001b[1;31mUSGSError\u001b[0m: NOT_FOUND: Invalid Endpoint."
     ]
    }
   ],
   "source": [
    "import json\n",
    "from landsatxplore.api import API\n",
    "\n",
    "# Load credentials from the configuration file\n",
    "with open('configLandsat.json') as f:\n",
    "    config = json.load(f)\n",
    "\n",
    "username = config['username']\n",
    "password = config['password']\n",
    "\n",
    "# Initialize the API instance\n",
    "api = API(username, password)\n"
   ]
  },
  {
   "cell_type": "code",
   "execution_count": null,
   "metadata": {},
   "outputs": [
    {
     "ename": "USGSError",
     "evalue": "NOT_FOUND: Invalid Endpoint.",
     "output_type": "error",
     "traceback": [
      "\u001b[1;31m---------------------------------------------------------------------------\u001b[0m",
      "\u001b[1;31mUSGSError\u001b[0m                                 Traceback (most recent call last)",
      "Cell \u001b[1;32mIn[5], line 5\u001b[0m\n\u001b[0;32m      2\u001b[0m \u001b[38;5;28;01mfrom\u001b[39;00m \u001b[38;5;21;01mlandsatxplore\u001b[39;00m\u001b[38;5;21;01m.\u001b[39;00m\u001b[38;5;21;01mapi\u001b[39;00m \u001b[38;5;28;01mimport\u001b[39;00m API\n\u001b[0;32m      4\u001b[0m \u001b[38;5;66;03m# Initialize a new API instance and get an access key\u001b[39;00m\n\u001b[1;32m----> 5\u001b[0m api \u001b[38;5;241m=\u001b[39m \u001b[43mAPI\u001b[49m\u001b[43m(\u001b[49m\u001b[38;5;124;43m'\u001b[39;49m\u001b[38;5;124;43mMargaux_ccd\u001b[39;49m\u001b[38;5;124;43m'\u001b[39;49m\u001b[43m,\u001b[49m\u001b[43m \u001b[49m\u001b[38;5;124;43m'\u001b[39;49m\u001b[38;5;124;43mtnEh,H~$E+5W\u001b[39;49m\u001b[38;5;124;43m'\u001b[39;49m\u001b[43m)\u001b[49m\n\u001b[0;32m      7\u001b[0m \u001b[38;5;66;03m# Search for Landsat TM scenes\u001b[39;00m\n\u001b[0;32m      8\u001b[0m scenes \u001b[38;5;241m=\u001b[39m api\u001b[38;5;241m.\u001b[39msearch(\n\u001b[0;32m      9\u001b[0m     dataset\u001b[38;5;241m=\u001b[39m\u001b[38;5;124m'\u001b[39m\u001b[38;5;124mlandsat_tm_c2_l1\u001b[39m\u001b[38;5;124m'\u001b[39m,\n\u001b[0;32m     10\u001b[0m     latitude\u001b[38;5;241m=\u001b[39m\u001b[38;5;241m50.85\u001b[39m,\n\u001b[1;32m   (...)\u001b[0m\n\u001b[0;32m     14\u001b[0m     max_cloud_cover\u001b[38;5;241m=\u001b[39m\u001b[38;5;241m10\u001b[39m\n\u001b[0;32m     15\u001b[0m )\n",
      "File \u001b[1;32m~\\AppData\\Local\\Packages\\PythonSoftwareFoundation.Python.3.11_qbz5n2kfra8p0\\LocalCache\\local-packages\\Python311\\site-packages\\landsatxplore\\api.py:35\u001b[0m, in \u001b[0;36mAPI.__init__\u001b[1;34m(self, username, password)\u001b[0m\n\u001b[0;32m     33\u001b[0m \u001b[38;5;28mself\u001b[39m\u001b[38;5;241m.\u001b[39murl \u001b[38;5;241m=\u001b[39m API_URL\n\u001b[0;32m     34\u001b[0m \u001b[38;5;28mself\u001b[39m\u001b[38;5;241m.\u001b[39msession \u001b[38;5;241m=\u001b[39m requests\u001b[38;5;241m.\u001b[39mSession()\n\u001b[1;32m---> 35\u001b[0m \u001b[38;5;28;43mself\u001b[39;49m\u001b[38;5;241;43m.\u001b[39;49m\u001b[43mlogin\u001b[49m\u001b[43m(\u001b[49m\u001b[43musername\u001b[49m\u001b[43m,\u001b[49m\u001b[43m \u001b[49m\u001b[43mpassword\u001b[49m\u001b[43m)\u001b[49m\n",
      "File \u001b[1;32m~\\AppData\\Local\\Packages\\PythonSoftwareFoundation.Python.3.11_qbz5n2kfra8p0\\LocalCache\\local-packages\\Python311\\site-packages\\landsatxplore\\api.py:103\u001b[0m, in \u001b[0;36mAPI.login\u001b[1;34m(self, username, password)\u001b[0m\n\u001b[0;32m    101\u001b[0m payload \u001b[38;5;241m=\u001b[39m {\u001b[38;5;124m\"\u001b[39m\u001b[38;5;124musername\u001b[39m\u001b[38;5;124m\"\u001b[39m: username, \u001b[38;5;124m\"\u001b[39m\u001b[38;5;124mpassword\u001b[39m\u001b[38;5;124m\"\u001b[39m: password}\n\u001b[0;32m    102\u001b[0m r \u001b[38;5;241m=\u001b[39m \u001b[38;5;28mself\u001b[39m\u001b[38;5;241m.\u001b[39msession\u001b[38;5;241m.\u001b[39mpost(login_url, json\u001b[38;5;241m.\u001b[39mdumps(payload))\n\u001b[1;32m--> 103\u001b[0m \u001b[38;5;28;43mself\u001b[39;49m\u001b[38;5;241;43m.\u001b[39;49m\u001b[43mraise_api_error\u001b[49m\u001b[43m(\u001b[49m\u001b[43mr\u001b[49m\u001b[43m)\u001b[49m\n\u001b[0;32m    104\u001b[0m \u001b[38;5;28mself\u001b[39m\u001b[38;5;241m.\u001b[39msession\u001b[38;5;241m.\u001b[39mheaders[\u001b[38;5;124m\"\u001b[39m\u001b[38;5;124mX-Auth-Token\u001b[39m\u001b[38;5;124m\"\u001b[39m] \u001b[38;5;241m=\u001b[39m r\u001b[38;5;241m.\u001b[39mjson()\u001b[38;5;241m.\u001b[39mget(\u001b[38;5;124m\"\u001b[39m\u001b[38;5;124mdata\u001b[39m\u001b[38;5;124m\"\u001b[39m)\n",
      "File \u001b[1;32m~\\AppData\\Local\\Packages\\PythonSoftwareFoundation.Python.3.11_qbz5n2kfra8p0\\LocalCache\\local-packages\\Python311\\site-packages\\landsatxplore\\api.py:55\u001b[0m, in \u001b[0;36mAPI.raise_api_error\u001b[1;34m(response)\u001b[0m\n\u001b[0;32m     53\u001b[0m     \u001b[38;5;28;01mraise\u001b[39;00m USGSRateLimitError(\u001b[38;5;124mf\u001b[39m\u001b[38;5;124m\"\u001b[39m\u001b[38;5;132;01m{\u001b[39;00merror_code\u001b[38;5;132;01m}\u001b[39;00m\u001b[38;5;124m: \u001b[39m\u001b[38;5;132;01m{\u001b[39;00merror_msg\u001b[38;5;132;01m}\u001b[39;00m\u001b[38;5;124m.\u001b[39m\u001b[38;5;124m\"\u001b[39m)\n\u001b[0;32m     54\u001b[0m \u001b[38;5;28;01melse\u001b[39;00m:\n\u001b[1;32m---> 55\u001b[0m     \u001b[38;5;28;01mraise\u001b[39;00m USGSError(\u001b[38;5;124mf\u001b[39m\u001b[38;5;124m\"\u001b[39m\u001b[38;5;132;01m{\u001b[39;00merror_code\u001b[38;5;132;01m}\u001b[39;00m\u001b[38;5;124m: \u001b[39m\u001b[38;5;132;01m{\u001b[39;00merror_msg\u001b[38;5;132;01m}\u001b[39;00m\u001b[38;5;124m.\u001b[39m\u001b[38;5;124m\"\u001b[39m)\n",
      "\u001b[1;31mUSGSError\u001b[0m: NOT_FOUND: Invalid Endpoint."
     ]
    }
   ],
   "source": [
    "\n",
    "# Search for Landsat TM scenes\n",
    "scenes = api.search(\n",
    "    dataset='landsat_tm_c2_l1',\n",
    "    latitude=50.85,\n",
    "    longitude=-4.35,\n",
    "    start_date='1995-01-01',\n",
    "    end_date='1995-10-01',\n",
    "    max_cloud_cover=10\n",
    ")\n",
    "\n",
    "print(f\"{len(scenes)} scenes found.\")\n",
    "\n",
    "# Process the result\n",
    "for scene in scenes:\n",
    "    print(scene['acquisition_date'].strftime('%Y-%m-%d'))\n",
    "    # Write scene footprints to disk\n",
    "    fname = f\"{scene['landsat_product_id']}.geojson\"\n",
    "    with open(fname, \"w\") as f:\n",
    "        json.dump(scene['spatial_coverage'].__geo_interface__, f)\n",
    "\n",
    "api.logout()"
   ]
  },
  {
   "cell_type": "code",
   "execution_count": null,
   "metadata": {},
   "outputs": [],
   "source": [
    "from landsatxplore.earthexplorer import EarthExplorer\n",
    "\n",
    "ee = EarthExplorer('Margaux_ccd', 'tnEh,H~$E+5W')\n",
    "\n",
    "ee.download('LT51960471995178MPS00', output_dir='./data')\n",
    "\n",
    "ee.logout()"
   ]
  },
  {
   "cell_type": "markdown",
   "metadata": {},
   "source": [
    "# Using"
   ]
  }
 ],
 "metadata": {
  "kernelspec": {
   "display_name": ".venv",
   "language": "python",
   "name": "python3"
  },
  "language_info": {
   "codemirror_mode": {
    "name": "ipython",
    "version": 3
   },
   "file_extension": ".py",
   "mimetype": "text/x-python",
   "name": "python",
   "nbconvert_exporter": "python",
   "pygments_lexer": "ipython3",
   "version": "3.11.9"
  }
 },
 "nbformat": 4,
 "nbformat_minor": 2
}
