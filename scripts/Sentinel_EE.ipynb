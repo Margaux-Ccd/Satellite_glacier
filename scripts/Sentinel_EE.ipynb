{
 "cells": [
  {
   "cell_type": "markdown",
   "metadata": {},
   "source": [
    "# Download sentinel data from Google Earth Engine \n",
    "This script permits to download satellite data from google earth engine using Earth Engine API.\n",
    "([Documentation](https://developers.google.com/earth-engine/apidocs/ee-imagecollection))\n",
    "Some ([examples](https://developers.google.com/earth-engine/tutorials/community/intro-to-python-api))\n",
    "The ([GitHub ofGoogle Earth Engine Python API](https://github.com/google/earthengine-api))\n",
    "\n",
    "This code has the following steps:\n",
    "- log in [Google Earth Engine](https://earthengine.google.com/) and create or link to a project\n",
    "- input parameters (dates, bands, Data Collection, AOI...)\n",
    "- run a code that downloads automatically the images (.tif)\n",
    "\n",
    "Prerequisites are:\n",
    "- Have a google account and log into Google Earth Engine\n",
    "- Have space for the output data"
   ]
  },
  {
   "cell_type": "markdown",
   "metadata": {},
   "source": [
    "## Authentification\n",
    "This part permits to authenticate into Google Earth Engine and to create or initialize a project.\n",
    "\n",
    "Authenticate may use your default navigator to ask for permitions."
   ]
  },
  {
   "cell_type": "code",
   "execution_count": 1,
   "metadata": {},
   "outputs": [
    {
     "data": {
      "text/plain": [
       "True"
      ]
     },
     "execution_count": 1,
     "metadata": {},
     "output_type": "execute_result"
    }
   ],
   "source": [
    "import ee\n",
    "\n",
    "# Trigger the authentication flow.\n",
    "ee.Authenticate(auth_mode='localhost')"
   ]
  },
  {
   "cell_type": "markdown",
   "metadata": {},
   "source": [
    "Create/link to project : \n",
    "\n",
    "- go on [Google earth engine/platform/](https://code.earthengine.google.com/)\n",
    "- create your project\n",
    "- run the following code: you can change the name of your project in the following cell."
   ]
  },
  {
   "cell_type": "code",
   "execution_count": 2,
   "metadata": {},
   "outputs": [],
   "source": [
    "\n",
    "# TODO change your project name\n",
    "project=\"ee-aletschpy\"\n",
    "\n",
    "\n",
    "ee.Initialize(project=project)"
   ]
  },
  {
   "cell_type": "markdown",
   "metadata": {},
   "source": [
    "## Parameters\n",
    "\n",
    "This section will import the libraries and ask for your parameters.\n",
    "If something is wrong with the imports, please make sure you are in an adapted virtual environment using the requirements.txt."
   ]
  },
  {
   "cell_type": "code",
   "execution_count": 3,
   "metadata": {},
   "outputs": [],
   "source": [
    "#imports\n",
    "from datetime import timedelta\n",
    "import geemap.core as geemap\n",
    "import json\n",
    "import geojson\n",
    "import geopandas as gpd\n",
    "import requests\n",
    "import numpy as np\n",
    "import io"
   ]
  },
  {
   "cell_type": "markdown",
   "metadata": {},
   "source": [
    "Please add here your parameters for data download.\n",
    "- Satellite_Collection: the collection you want to search into. The list and descriptions of collections can be found on the [Dataset webpage](https://developers.google.com/earth-engine/datasets?hl=fr). Please make sure that the time range you are looking for it covered by the dataset, look also for the names of the useful bands. This script is working with COPERNICUS/S2_HARMONIZED or LANDSAT/LT05/C02/T1_L2 but its right functionning cannot be assured for other datasets as variables as 'CLOUDY_PIXEL_PERCENTAGE' are maybe not defined.\n",
    "\n",
    "- start_date: the starting date of your study (the format is ee.Date('YYYY-MM-DD'))\n",
    "- end_date: the ending date of your study\n",
    "- monthly_step: it is the time between two searches\n",
    "- month_range: time range for which you are searching the best image.\n",
    "\n",
    "For example: 'I want a picture of Aletsch glacier for each season (3 months) between 2020 and 2024 and I want to have the best image possible over 1 month' would translate in : start_date=ee.Date('2020-01-01'), end_date=ee.Date('2024-12-31'), monthly_step=3, month_range=1.\n",
    "\n",
    "- polygon_path: if you are using a GeoJson, enter the path to it here, else write None\n",
    "- shp_path: if you are using a .shp file, enter the path to it here, else write None \n",
    "    !! It only works if the .shp is surronded by  .shx,.qmd,.prj,.dbf,.cpg files.\n",
    "- Bands: list of bands you want to download, please use the dataset documentation to have the right names\n",
    "- output_directory: the path where the directory where you want to download the files\n",
    "- Numpy_format: boolean to download in this format\n",
    "- GeoTiff_format: booleen to download in this format"
   ]
  },
  {
   "cell_type": "code",
   "execution_count": 4,
   "metadata": {},
   "outputs": [
    {
     "data": {
      "text/html": [
       "\n",
       "            <style>\n",
       "                .geemap-dark {\n",
       "                    --jp-widgets-color: white;\n",
       "                    --jp-widgets-label-color: white;\n",
       "                    --jp-ui-font-color1: white;\n",
       "                    --jp-layout-color2: #454545;\n",
       "                    background-color: #383838;\n",
       "                }\n",
       "\n",
       "                .geemap-dark .jupyter-button {\n",
       "                    --jp-layout-color3: #383838;\n",
       "                }\n",
       "\n",
       "                .geemap-colab {\n",
       "                    background-color: var(--colab-primary-surface-color, white);\n",
       "                }\n",
       "\n",
       "                .geemap-colab .jupyter-button {\n",
       "                    --jp-layout-color3: var(--colab-primary-surface-color, white);\n",
       "                }\n",
       "            </style>\n",
       "            "
      ],
      "text/plain": [
       "<IPython.core.display.HTML object>"
      ]
     },
     "metadata": {},
     "output_type": "display_data"
    }
   ],
   "source": [
    "# Parameters\n",
    "Satellite_Collection='COPERNICUS/S2_SR_HARMONIZED'#'LANDSAT/LT05/C02/T1_L2'\n",
    "start_date=ee.Date('2021-07-01')\n",
    "end_date=ee.Date('2022-08-01')\n",
    "\n",
    "\n",
    "# Define the monthly timestep.\n",
    "monthly_step = 12 # in months, step between two searches\n",
    "month_range=2 # number of month over which you want to search for data at each timestep\n",
    "\n",
    "##--------Area of Interest----------#\n",
    "# Geojson\n",
    "polygon_path= r'C:\\Users\\marga\\Documents\\EPFL\\Cours\\S2\\Design_project\\codes\\Satellite_glacier\\draft\\polygon\\Aletsch_1.geojson'\n",
    "\n",
    "# Or Shp file\n",
    "shp_path=None #\"C:\\Users\\marga\\Documents\\EPFL\\Cours\\S2\\Design_project\\codes\\Satellite_glacier\\draft\\polygon\\Vevey1.shp\"\n",
    "\n",
    "##---------Bands------#\n",
    "#Bands \n",
    "Bands=['B2','B3','B4']#['SR_B3', 'SR_B2', 'SR_B1']\n",
    "\n",
    "#-----------Download-----#\n",
    "# Directory to save the subsetted data\n",
    "output_directory = r\"C:\\Users\\marga\\Documents\\EPFL\\Cours\\S2\\Design_project\\Images\"\n",
    "Numpy_format=False\n",
    "GeoTiff_format=True\n"
   ]
  },
  {
   "cell_type": "markdown",
   "metadata": {},
   "source": [
    "## Script\n",
    "\n",
    "Run all the cells to download the data"
   ]
  },
  {
   "cell_type": "markdown",
   "metadata": {},
   "source": [
    "makes a list of months to iterate on"
   ]
  },
  {
   "cell_type": "code",
   "execution_count": 5,
   "metadata": {},
   "outputs": [
    {
     "data": {
      "text/html": [
       "\n",
       "            <style>\n",
       "                .geemap-dark {\n",
       "                    --jp-widgets-color: white;\n",
       "                    --jp-widgets-label-color: white;\n",
       "                    --jp-ui-font-color1: white;\n",
       "                    --jp-layout-color2: #454545;\n",
       "                    background-color: #383838;\n",
       "                }\n",
       "\n",
       "                .geemap-dark .jupyter-button {\n",
       "                    --jp-layout-color3: #383838;\n",
       "                }\n",
       "\n",
       "                .geemap-colab {\n",
       "                    background-color: var(--colab-primary-surface-color, white);\n",
       "                }\n",
       "\n",
       "                .geemap-colab .jupyter-button {\n",
       "                    --jp-layout-color3: var(--colab-primary-surface-color, white);\n",
       "                }\n",
       "            </style>\n",
       "            "
      ],
      "text/plain": [
       "<IPython.core.display.HTML object>"
      ]
     },
     "metadata": {},
     "output_type": "display_data"
    },
    {
     "name": "stdout",
     "output_type": "stream",
     "text": [
      "[0, 12]\n"
     ]
    }
   ],
   "source": [
    "date_range= ee.DateRange(start_date, end_date) #UTC\n",
    "# Calculate the number of months between the start and end dates.\n",
    "months_diff = end_date.difference(start_date, 'month')\n",
    "\n",
    "# Generate a sequence of months.\n",
    "months = ee.List.sequence(0, months_diff.subtract(1), monthly_step).getInfo()\n",
    "print(months)"
   ]
  },
  {
   "cell_type": "code",
   "execution_count": 6,
   "metadata": {},
   "outputs": [
    {
     "data": {
      "text/html": [
       "\n",
       "            <style>\n",
       "                .geemap-dark {\n",
       "                    --jp-widgets-color: white;\n",
       "                    --jp-widgets-label-color: white;\n",
       "                    --jp-ui-font-color1: white;\n",
       "                    --jp-layout-color2: #454545;\n",
       "                    background-color: #383838;\n",
       "                }\n",
       "\n",
       "                .geemap-dark .jupyter-button {\n",
       "                    --jp-layout-color3: #383838;\n",
       "                }\n",
       "\n",
       "                .geemap-colab {\n",
       "                    background-color: var(--colab-primary-surface-color, white);\n",
       "                }\n",
       "\n",
       "                .geemap-colab .jupyter-button {\n",
       "                    --jp-layout-color3: var(--colab-primary-surface-color, white);\n",
       "                }\n",
       "            </style>\n",
       "            "
      ],
      "text/plain": [
       "<IPython.core.display.HTML object>"
      ]
     },
     "metadata": {},
     "output_type": "display_data"
    }
   ],
   "source": [
    "import numpy as np\n",
    "from skimage import exposure\n",
    "from skimage.io import imread, imsave\n",
    "import matplotlib.pyplot as plt\n",
    "\n",
    "def get_normalized_image(image, percentiles=(2, 98)):\n",
    "    \"\"\"\n",
    "    Rescale image to values between 0 to 255 (capping outlier values) \n",
    "    \n",
    "    Parameters\n",
    "    ==================\n",
    "    image: Numpy array\n",
    "        Image numpy array with shape (height, width, num_bands)\n",
    "    \n",
    "    percentiles: tuple\n",
    "        Tuple of min and max percentiles to cap outlier values\n",
    "    \n",
    "    Returns\n",
    "    ==================\n",
    "    output: Numpy array\n",
    "        Normalized image numpy array\n",
    "    \n",
    "    \"\"\"\n",
    "    output = np.zeros_like(image)\n",
    "    for k in range(image.shape[2]): # for each band\n",
    "        p_min, p_max = np.percentile(image[:, :, k], percentiles)\n",
    "        output[:, :, k] = exposure.rescale_intensity(image[:, :, k], \n",
    "                            in_range=(p_min, p_max), out_range=(0, 255))\n",
    "    return output.astype(np.uint8)\n"
   ]
  },
  {
   "cell_type": "markdown",
   "metadata": {},
   "source": [
    "Prepare the Area Of Interest from either geojson or shp file."
   ]
  },
  {
   "cell_type": "code",
   "execution_count": 7,
   "metadata": {},
   "outputs": [
    {
     "data": {
      "text/html": [
       "\n",
       "            <style>\n",
       "                .geemap-dark {\n",
       "                    --jp-widgets-color: white;\n",
       "                    --jp-widgets-label-color: white;\n",
       "                    --jp-ui-font-color1: white;\n",
       "                    --jp-layout-color2: #454545;\n",
       "                    background-color: #383838;\n",
       "                }\n",
       "\n",
       "                .geemap-dark .jupyter-button {\n",
       "                    --jp-layout-color3: #383838;\n",
       "                }\n",
       "\n",
       "                .geemap-colab {\n",
       "                    background-color: var(--colab-primary-surface-color, white);\n",
       "                }\n",
       "\n",
       "                .geemap-colab .jupyter-button {\n",
       "                    --jp-layout-color3: var(--colab-primary-surface-color, white);\n",
       "                }\n",
       "            </style>\n",
       "            "
      ],
      "text/plain": [
       "<IPython.core.display.HTML object>"
      ]
     },
     "metadata": {},
     "output_type": "display_data"
    },
    {
     "name": "stdout",
     "output_type": "stream",
     "text": [
      "geoJson loading\n",
      "{\"features\": [{\"geometry\": {\"coordinates\": [[[8.035762, 46.395128], [8.077107, 46.417245], [8.097815, 46.440195], [8.092364, 46.467013], [8.087227, 46.48803], [8.073553, 46.505892], [8.067174, 46.516889], [8.032211, 46.519326], [8.007453, 46.501222], [8.018197, 46.488766], [8.033307, 46.482761], [8.05474, 46.467051], [8.055246, 46.447121], [8.051066, 46.430177], [8.034506, 46.416556], [8.024673, 46.403873], [8.035762, 46.395128]]], \"type\": \"Polygon\"}, \"properties\": {}, \"type\": \"Feature\"}], \"type\": \"FeatureCollection\"}\n"
     ]
    },
    {
     "data": {
      "application/vnd.jupyter.widget-view+json": {
       "model_id": "7705ae6633de40f1a4e5e8c95a070050",
       "version_major": 2,
       "version_minor": 0
      },
      "text/plain": [
       "Map(center=[46.465198691430835, 8.0588740665255], controls=(ZoomControl(options=['position', 'zoom_in_text', '…"
      ]
     },
     "metadata": {},
     "output_type": "display_data"
    }
   ],
   "source": [
    "if (polygon_path==None )& (shp_path==None):\n",
    "      print(\"!!! Specify an area of interest using .geojson or .shp file!!\")\n",
    "      aoi=ee.Geometry.BBox(0.1,0.1,0.1,0.1)\n",
    "\n",
    "if polygon_path!=None:\n",
    "    print(\"geoJson loading\")\n",
    "    with open(polygon_path, 'r') as file:\n",
    "            geojson_data = geojson.load(file)\n",
    "    coords = geojson_data['features'][0]['geometry']['coordinates']\n",
    "    print(geojson_data)\n",
    "    aoi=ee.Geometry.Polygon(coords)\n",
    "\n",
    "if shp_path!=None:\n",
    "      print(\"Shapefile loading\")\n",
    "      # Read the shapefile using geopandas\n",
    "      gdf = gpd.read_file(shp_path)\n",
    "      # Convert the geodataframe to a GeoJSON file\n",
    "      geojson_data=gdf.to_json()\n",
    "      # Parse GeoJSON string into a Python dictionary\n",
    "      geojson_dict = json.loads(geojson_data)\n",
    "      coords = geojson_dict['features'][0]['geometry']['coordinates']\n",
    "      print(coords)\n",
    "      aoi=ee.Geometry.Polygon(coords)\n",
    "\n",
    "# Convert the GeoJSON to an ee.Geometry object\n",
    "\n",
    "\n",
    "Map = geemap.Map()\n",
    "# Add the image to the map.\n",
    "Map.add_layer(aoi,None, 'Area of interest')\n",
    "Map.centerObject(aoi, 11)\n",
    "display(Map)\n"
   ]
  },
  {
   "cell_type": "markdown",
   "metadata": {},
   "source": [
    "Download script: for each range of search time, search in the image collection to get an Image batch given the AOI and the dates. After that, sort the image batch by CLOUDY_PIXEL_PERCENTAGE and takes the first one. Add it as a layer to the visualization map then download it.\n",
    "\n",
    "\n",
    "If you get an error and that the ImageCollection is empty, then you have to be careful about your dataset. It may not cover the time range or the names of the bands are not correct."
   ]
  },
  {
   "cell_type": "code",
   "execution_count": 8,
   "metadata": {},
   "outputs": [
    {
     "data": {
      "text/html": [
       "\n",
       "            <style>\n",
       "                .geemap-dark {\n",
       "                    --jp-widgets-color: white;\n",
       "                    --jp-widgets-label-color: white;\n",
       "                    --jp-ui-font-color1: white;\n",
       "                    --jp-layout-color2: #454545;\n",
       "                    background-color: #383838;\n",
       "                }\n",
       "\n",
       "                .geemap-dark .jupyter-button {\n",
       "                    --jp-layout-color3: #383838;\n",
       "                }\n",
       "\n",
       "                .geemap-colab {\n",
       "                    background-color: var(--colab-primary-surface-color, white);\n",
       "                }\n",
       "\n",
       "                .geemap-colab .jupyter-button {\n",
       "                    --jp-layout-color3: var(--colab-primary-surface-color, white);\n",
       "                }\n",
       "            </style>\n",
       "            "
      ],
      "text/plain": [
       "<IPython.core.display.HTML object>"
      ]
     },
     "metadata": {},
     "output_type": "display_data"
    },
    {
     "name": "stdout",
     "output_type": "stream",
     "text": [
      "Processing month: 2021-07-01 to 2021-09-01\n",
      "The ImageCollection contains 24 images.\n"
     ]
    },
    {
     "name": "stderr",
     "output_type": "stream",
     "text": [
      "<tifffile.TiffPage 0 @8> parsing GDAL_NODATA tag raised ValueError(\"invalid literal for int() with base 10: '0.0'\")\n"
     ]
    },
    {
     "name": "stdout",
     "output_type": "stream",
     "text": [
      "Processing month: 2022-07-01 to 2022-09-01\n",
      "The ImageCollection contains 24 images.\n"
     ]
    },
    {
     "name": "stderr",
     "output_type": "stream",
     "text": [
      "<tifffile.TiffPage 0 @8> parsing GDAL_NODATA tag raised ValueError(\"invalid literal for int() with base 10: '0.0'\")\n"
     ]
    }
   ],
   "source": [
    "# Iterate over the sequence of months.\n",
    "for month in months :\n",
    "    current_start = start_date.advance(month, 'month')\n",
    "    current_end = current_start.advance(month_range, 'month')\n",
    "    # Print the start and end dates.\n",
    "    print(f'Processing month: {current_start.format(\"YYYY-MM-dd\").getInfo()} to {current_end.format(\"YYYY-MM-dd\").getInfo()}')\n",
    "    \n",
    "\n",
    "    # Search image\n",
    "    Image_batch=ee.ImageCollection(Satellite_Collection) .filterBounds(aoi) .filterDate(current_start, current_end)\n",
    "    # Check if the collection is empty\n",
    "    collection_size = Image_batch.size().getInfo()\n",
    "\n",
    "    if collection_size == 0:\n",
    "        print(\"The ImageCollection is empty.\")\n",
    "    else:\n",
    "     print(f\"The ImageCollection contains {collection_size} images.\")\n",
    "\n",
    "    img = ee.Image( Image_batch.sort('CLOUDY_PIXEL_PERCENTAGE',ascending=True)\n",
    "                       .first() \n",
    "                       .clip(aoi)\n",
    "                       .select(Bands),)\n",
    "    \n",
    "\n",
    "    #Visualisation\n",
    "\n",
    "    vizParams = {\n",
    "    'bands': Bands[:3], #Red, Green, Blue bands\n",
    "    }\n",
    "    Map.addLayer(img, vizParams, f'{current_start.format(\"YYYY-MM-dd\").getInfo()} to {current_end.format(\"YYYY-MM-dd\").getInfo()}')\n",
    "\n",
    "    # Multi-band GeoTIFF file.\n",
    "    if GeoTiff_format:\n",
    "        url = img.getDownloadUrl({\n",
    "            'bands': Bands,\n",
    "            'region': aoi,\n",
    "            'scale': 20,\n",
    "            'format': 'GEO_TIFF'\n",
    "        })\n",
    "        response = requests.get(url)\n",
    "        with open(output_directory+ f'/multi_band_{current_start.format(\"YYYY-MM-dd\").getInfo()}.tif', 'wb') as fd:\n",
    "            fd.write(response.content)\n",
    "        arr = np.array(imread(output_directory+ f'/multi_band_{current_start.format(\"YYYY-MM-dd\").getInfo()}.tif'))\n",
    "        # TODO: normalize images for visualization\n",
    "        arr_norm = get_normalized_image(arr)\n",
    "        imsave(output_directory+ f'/multi_band_{current_start.format(\"YYYY-MM-dd\").getInfo()}_norm.tif',arr_norm)\n",
    "        \n",
    "    if Numpy_format:\n",
    "       url = img.getDownloadUrl({\n",
    "            'bands': Bands,\n",
    "            'region': aoi,\n",
    "            'scale': 20,\n",
    "            'format': 'NPY'})\n",
    "       response = requests.get(url)\n",
    "       data = np.load(io.BytesIO(response.content),allow_pickle=True)\n",
    "\n"
   ]
  },
  {
   "cell_type": "markdown",
   "metadata": {},
   "source": [
    "Display the map with all the layers of the downloaded images. You can then choose the 3 band view (choose Stretch=100%) to view the images."
   ]
  },
  {
   "cell_type": "code",
   "execution_count": 9,
   "metadata": {},
   "outputs": [
    {
     "data": {
      "text/html": [
       "\n",
       "            <style>\n",
       "                .geemap-dark {\n",
       "                    --jp-widgets-color: white;\n",
       "                    --jp-widgets-label-color: white;\n",
       "                    --jp-ui-font-color1: white;\n",
       "                    --jp-layout-color2: #454545;\n",
       "                    background-color: #383838;\n",
       "                }\n",
       "\n",
       "                .geemap-dark .jupyter-button {\n",
       "                    --jp-layout-color3: #383838;\n",
       "                }\n",
       "\n",
       "                .geemap-colab {\n",
       "                    background-color: var(--colab-primary-surface-color, white);\n",
       "                }\n",
       "\n",
       "                .geemap-colab .jupyter-button {\n",
       "                    --jp-layout-color3: var(--colab-primary-surface-color, white);\n",
       "                }\n",
       "            </style>\n",
       "            "
      ],
      "text/plain": [
       "<IPython.core.display.HTML object>"
      ]
     },
     "metadata": {},
     "output_type": "display_data"
    },
    {
     "data": {
      "application/vnd.jupyter.widget-view+json": {
       "model_id": "7705ae6633de40f1a4e5e8c95a070050",
       "version_major": 2,
       "version_minor": 0
      },
      "text/plain": [
       "Map(center=[46.46519869143197, 8.058874066523757], controls=(ZoomControl(options=['position', 'zoom_in_text', …"
      ]
     },
     "metadata": {},
     "output_type": "display_data"
    }
   ],
   "source": [
    "Map.centerObject(aoi, 11)\n",
    "display(Map)"
   ]
  },
  {
   "cell_type": "code",
   "execution_count": null,
   "metadata": {},
   "outputs": [],
   "source": [
    "\n"
   ]
  }
 ],
 "metadata": {
  "kernelspec": {
   "display_name": "GEE",
   "language": "python",
   "name": "python3"
  },
  "language_info": {
   "codemirror_mode": {
    "name": "ipython",
    "version": 3
   },
   "file_extension": ".py",
   "mimetype": "text/x-python",
   "name": "python",
   "nbconvert_exporter": "python",
   "pygments_lexer": "ipython3",
   "version": "3.13.2"
  }
 },
 "nbformat": 4,
 "nbformat_minor": 2
}
