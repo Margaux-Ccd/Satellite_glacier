{
 "cells": [
  {
   "cell_type": "markdown",
   "metadata": {},
   "source": [
    "# Download sentinel data from Google Earth Engine \n",
    "This script permits to download satellite data from google earth engine using Earth Engine API.\n",
    "([Documentation](https://developers.google.com/earth-engine/apidocs/ee-imagecollection))\n",
    "Some ([examples](https://developers.google.com/earth-engine/tutorials/community/intro-to-python-api))\n",
    "The ([GitHub ofGoogle Earth Engine Python API](https://github.com/google/earthengine-api))\n",
    "\n",
    "This code has the following steps:\n",
    "- log in [Google Earth Engine](https://earthengine.google.com/) and create or link to a project\n",
    "- input parameters (dates, bands, Data Collection, AOI...)\n",
    "- run a code that downloads automatically the images (.tif)\n",
    "\n",
    "Prerequisites are:\n",
    "- Have a google account and log into Google Earth Engine\n",
    "- Have space for the output data"
   ]
  },
  {
   "cell_type": "markdown",
   "metadata": {},
   "source": [
    "## Authentification\n",
    "This part permits to authenticate into Google Earth Engine and to create or initialize a project.\n",
    "\n",
    "Authenticate may use your default navigator to ask for permitions."
   ]
  },
  {
   "cell_type": "code",
   "execution_count": 1,
   "metadata": {},
   "outputs": [
    {
     "data": {
      "text/html": [
       "<p>To authorize access needed by Earth Engine, open the following\n",
       "        URL in a web browser and follow the instructions:</p>\n",
       "        <p><a href=https://accounts.google.com/o/oauth2/auth?client_id=517222506229-vsmmajv00ul0bs7p89v5m89qs8eb9359.apps.googleusercontent.com&scope=https%3A%2F%2Fwww.googleapis.com%2Fauth%2Fearthengine+https%3A%2F%2Fwww.googleapis.com%2Fauth%2Fcloud-platform+https%3A%2F%2Fwww.googleapis.com%2Fauth%2Fdevstorage.full_control&redirect_uri=http%3A%2F%2Flocalhost%3A8085&response_type=code&code_challenge=-P8dMPMPWgUh2PIc6lP_FO6A0Vww8k9oqJBljQyOeNM&code_challenge_method=S256>https://accounts.google.com/o/oauth2/auth?client_id=517222506229-vsmmajv00ul0bs7p89v5m89qs8eb9359.apps.googleusercontent.com&scope=https%3A%2F%2Fwww.googleapis.com%2Fauth%2Fearthengine+https%3A%2F%2Fwww.googleapis.com%2Fauth%2Fcloud-platform+https%3A%2F%2Fwww.googleapis.com%2Fauth%2Fdevstorage.full_control&redirect_uri=http%3A%2F%2Flocalhost%3A8085&response_type=code&code_challenge=-P8dMPMPWgUh2PIc6lP_FO6A0Vww8k9oqJBljQyOeNM&code_challenge_method=S256</a></p>\n",
       "        <p>Waiting for successful authorization from web browser ...</p>\n",
       "        "
      ],
      "text/plain": [
       "<IPython.core.display.HTML object>"
      ]
     },
     "metadata": {},
     "output_type": "display_data"
    },
    {
     "name": "stdout",
     "output_type": "stream",
     "text": [
      "\n",
      "Successfully saved authorization token.\n"
     ]
    }
   ],
   "source": [
    "import ee\n",
    "\n",
    "# Trigger the authentication flow.\n",
    "ee.Authenticate(auth_mode='localhost')"
   ]
  },
  {
   "cell_type": "markdown",
   "metadata": {},
   "source": [
    "Create/link to project : \n",
    "\n",
    "- go on [Google earth engine/platform/](https://code.earthengine.google.com/)\n",
    "- create your project\n",
    "- run the following code: you can change the name of your project in the following cell."
   ]
  },
  {
   "cell_type": "code",
   "execution_count": 6,
   "metadata": {},
   "outputs": [],
   "source": [
    "\n",
    "# TODO change your project name\n",
    "project=\"ee-aletsch\"\n",
    "\n",
    "\n",
    "ee.Initialize(project=project)"
   ]
  },
  {
   "cell_type": "markdown",
   "metadata": {},
   "source": [
    "## Parameters\n",
    "\n",
    "This section will import the libraries and ask for your parameters.\n",
    "If something is wrong with the imports, please make sure you are in an adapted virtual environment using the requirements.txt."
   ]
  },
  {
   "cell_type": "code",
   "execution_count": 7,
   "metadata": {},
   "outputs": [],
   "source": [
    "#imports\n",
    "from datetime import timedelta\n",
    "import geemap.core as geemap\n",
    "import json\n",
    "import geojson\n",
    "import geopandas as gpd\n",
    "import requests\n",
    "import numpy as np\n",
    "import io"
   ]
  },
  {
   "cell_type": "markdown",
   "metadata": {},
   "source": [
    "Please add here your parameters for data download.\n",
    "- Satellite_Collection: the collection you want to search into. The list and descriptions of collections can be found on the [Dataset webpage](https://developers.google.com/earth-engine/datasets?hl=fr). Please make sure that the time range you are looking for it covered by the dataset, look also for the names of the useful bands. This script is working with COPERNICUS/S2_HARMONIZED or LANDSAT/LT05/C02/T1_L2 but its right functionning cannot be assured for other datasets as variables as 'CLOUDY_PIXEL_PERCENTAGE' are maybe not defined.\n",
    "\n",
    "- start_date: the starting date of your study (the format is ee.Date('YYYY-MM-DD'))\n",
    "- end_date: the ending date of your study\n",
    "- monthly_step: it is the time between two searches\n",
    "- month_range: time range for which you are searching the best image.\n",
    "\n",
    "For example: 'I want a picture of Aletsch glacier for each season (3 months) between 2020 and 2024 and I want to have the best image possible over 1 month' would translate in : start_date=ee.Date('2020-01-01'), end_date=ee.Date('2024-12-31'), monthly_step=3, month_range=1.\n",
    "\n",
    "- polygon_path: if you are using a GeoJson, enter the path to it here, else write None\n",
    "- shp_path: if you are using a .shp file, enter the path to it here, else write None \n",
    "    !! It only works if the .shp is surronded by  .shx,.qmd,.prj,.dbf,.cpg files.\n",
    "- Bands: list of bands you want to download, please use the dataset documentation to have the right names\n",
    "- output_directory: the path where the directory where you want to download the files\n",
    "- Numpy_format: boolean to download in this format\n",
    "- GeoTiff_format: booleen to download in this format"
   ]
  },
  {
   "cell_type": "code",
   "execution_count": 18,
   "metadata": {},
   "outputs": [
    {
     "data": {
      "text/html": [
       "\n",
       "            <style>\n",
       "                .geemap-dark {\n",
       "                    --jp-widgets-color: white;\n",
       "                    --jp-widgets-label-color: white;\n",
       "                    --jp-ui-font-color1: white;\n",
       "                    --jp-layout-color2: #454545;\n",
       "                    background-color: #383838;\n",
       "                }\n",
       "\n",
       "                .geemap-dark .jupyter-button {\n",
       "                    --jp-layout-color3: #383838;\n",
       "                }\n",
       "\n",
       "                .geemap-colab {\n",
       "                    background-color: var(--colab-primary-surface-color, white);\n",
       "                }\n",
       "\n",
       "                .geemap-colab .jupyter-button {\n",
       "                    --jp-layout-color3: var(--colab-primary-surface-color, white);\n",
       "                }\n",
       "            </style>\n",
       "            "
      ],
      "text/plain": [
       "<IPython.core.display.HTML object>"
      ]
     },
     "metadata": {},
     "output_type": "display_data"
    }
   ],
   "source": [
    "# Parameters\n",
    "Satellite_Collection='COPERNICUS/S2_SR_HARMONIZED'#'LANDSAT/LT05/C02/T1_L2'\n",
    "start_date=ee.Date('2023-05-01')\n",
    "end_date=ee.Date('2023-06-01')\n",
    "\n",
    "\n",
    "# Define the monthly timestep.\n",
    "monthly_step = 1 # in months, step between two searches\n",
    "month_range=1 # number of month over which you want to search for data at each timestep\n",
    "\n",
    "##--------Area of Interest----------#\n",
    "# Geojson\n",
    "polygon_path= r'C:\\Users\\moeag\\Documents\\TRAVAIL\\EPFL\\S2\\Design project\\codes\\Satellite_glacier\\draft\\polygon\\Aletsch.geojson'\n",
    "\n",
    "# Or Shp file\n",
    "shp_path=None #\"C:\\Users\\marga\\Documents\\EPFL\\Cours\\S2\\Design_project\\codes\\Satellite_glacier\\draft\\polygon\\Vevey1.shp\"\n",
    "\n",
    "##---------Bands------#\n",
    "#Bands \n",
    "Bands=['B2','B3','B4']#['SR_B3', 'SR_B2', 'SR_B1']\n",
    "\n",
    "#-----------Download-----#\n",
    "# Directory to save the subsetted data\n",
    "output_directory = r'C:\\Users\\moeag\\Documents\\TRAVAIL\\EPFL\\S2\\Design project\\codes\\Satellite_glacier\\test'\n",
    "Numpy_format=True\n",
    "GeoTiff_format=True\n"
   ]
  },
  {
   "cell_type": "markdown",
   "metadata": {},
   "source": [
    "## Script\n",
    "\n",
    "Run all the cells to download the data"
   ]
  },
  {
   "cell_type": "markdown",
   "metadata": {},
   "source": [
    "makes a list of months to iterate on"
   ]
  },
  {
   "cell_type": "code",
   "execution_count": 19,
   "metadata": {},
   "outputs": [
    {
     "data": {
      "text/html": [
       "\n",
       "            <style>\n",
       "                .geemap-dark {\n",
       "                    --jp-widgets-color: white;\n",
       "                    --jp-widgets-label-color: white;\n",
       "                    --jp-ui-font-color1: white;\n",
       "                    --jp-layout-color2: #454545;\n",
       "                    background-color: #383838;\n",
       "                }\n",
       "\n",
       "                .geemap-dark .jupyter-button {\n",
       "                    --jp-layout-color3: #383838;\n",
       "                }\n",
       "\n",
       "                .geemap-colab {\n",
       "                    background-color: var(--colab-primary-surface-color, white);\n",
       "                }\n",
       "\n",
       "                .geemap-colab .jupyter-button {\n",
       "                    --jp-layout-color3: var(--colab-primary-surface-color, white);\n",
       "                }\n",
       "            </style>\n",
       "            "
      ],
      "text/plain": [
       "<IPython.core.display.HTML object>"
      ]
     },
     "metadata": {},
     "output_type": "display_data"
    },
    {
     "name": "stdout",
     "output_type": "stream",
     "text": [
      "[0]\n"
     ]
    }
   ],
   "source": [
    "date_range= ee.DateRange(start_date, end_date) #UTC\n",
    "# Calculate the number of months between the start and end dates.\n",
    "months_diff = end_date.difference(start_date, 'month')\n",
    "\n",
    "# Generate a sequence of months.\n",
    "months = ee.List.sequence(0, months_diff.subtract(1), monthly_step).getInfo()\n",
    "print(months)"
   ]
  },
  {
   "cell_type": "markdown",
   "metadata": {},
   "source": [
    "Prepare the Area Of Interest from either geojson or shp file."
   ]
  },
  {
   "cell_type": "code",
   "execution_count": 20,
   "metadata": {},
   "outputs": [
    {
     "data": {
      "text/html": [
       "\n",
       "            <style>\n",
       "                .geemap-dark {\n",
       "                    --jp-widgets-color: white;\n",
       "                    --jp-widgets-label-color: white;\n",
       "                    --jp-ui-font-color1: white;\n",
       "                    --jp-layout-color2: #454545;\n",
       "                    background-color: #383838;\n",
       "                }\n",
       "\n",
       "                .geemap-dark .jupyter-button {\n",
       "                    --jp-layout-color3: #383838;\n",
       "                }\n",
       "\n",
       "                .geemap-colab {\n",
       "                    background-color: var(--colab-primary-surface-color, white);\n",
       "                }\n",
       "\n",
       "                .geemap-colab .jupyter-button {\n",
       "                    --jp-layout-color3: var(--colab-primary-surface-color, white);\n",
       "                }\n",
       "            </style>\n",
       "            "
      ],
      "text/plain": [
       "<IPython.core.display.HTML object>"
      ]
     },
     "metadata": {},
     "output_type": "display_data"
    },
    {
     "name": "stdout",
     "output_type": "stream",
     "text": [
      "geoJson loading\n",
      "{\"features\": [{\"geometry\": {\"coordinates\": [[[8.029264, 46.38989], [8.083787, 46.415857], [8.112244, 46.455637], [8.10061, 46.493467], [8.084674, 46.502152], [8.075226, 46.528893], [8.072188, 46.545126], [8.057696, 46.555843], [8.03891, 46.55889], [8.01846, 46.563817], [7.999924, 46.55946], [7.986271, 46.553725], [7.963228, 46.544273], [7.960629, 46.528985], [7.964325, 46.522157], [7.965008, 46.501874], [7.939698, 46.490096], [7.940275, 46.467611], [7.981982, 46.468465], [7.997159, 46.450908], [7.997803, 46.439139], [7.984485, 46.405452], [8.030632, 46.386235], [8.029264, 46.38989]]], \"type\": \"Polygon\"}, \"properties\": {}, \"type\": \"Feature\"}], \"type\": \"FeatureCollection\"}\n"
     ]
    },
    {
     "data": {
      "application/vnd.jupyter.widget-view+json": {
       "model_id": "3f9ae8138ab24dfaa5ba8f561455f2b5",
       "version_major": 2,
       "version_minor": 0
      },
      "text/plain": [
       "Map(center=[46.479926367904945, 8.029911026811751], controls=(ZoomControl(options=['position', 'zoom_in_text',…"
      ]
     },
     "metadata": {},
     "output_type": "display_data"
    }
   ],
   "source": [
    "if (polygon_path==None )& (shp_path==None):\n",
    "      print(\"!!! Specify an area of interest using .geojson or .shp file!!\")\n",
    "      aoi=ee.Geometry.BBox(0.1,0.1,0.1,0.1)\n",
    "\n",
    "if polygon_path!=None:\n",
    "    print(\"geoJson loading\")\n",
    "    with open(polygon_path, 'r') as file:\n",
    "            geojson_data = geojson.load(file)\n",
    "    coords = geojson_data['features'][0]['geometry']['coordinates']\n",
    "    print(geojson_data)\n",
    "    aoi=ee.Geometry.Polygon(coords)\n",
    "\n",
    "if shp_path!=None:\n",
    "      print(\"Shapefile loading\")\n",
    "      # Read the shapefile using geopandas\n",
    "      gdf = gpd.read_file(shp_path)\n",
    "      # Convert the geodataframe to a GeoJSON file\n",
    "      geojson_data=gdf.to_json()\n",
    "      # Parse GeoJSON string into a Python dictionary\n",
    "      geojson_dict = json.loads(geojson_data)\n",
    "      coords = geojson_dict['features'][0]['geometry']['coordinates']\n",
    "      print(coords)\n",
    "      aoi=ee.Geometry.Polygon(coords)\n",
    "\n",
    "# Convert the GeoJSON to an ee.Geometry object\n",
    "\n",
    "\n",
    "Map = geemap.Map()\n",
    "# Add the image to the map.\n",
    "Map.add_layer(aoi,None, 'Area of interest')\n",
    "Map.centerObject(aoi, 11)\n",
    "display(Map)\n"
   ]
  },
  {
   "cell_type": "markdown",
   "metadata": {},
   "source": [
    "Download script: for each range of search time, search in the image collection to get an Image batch given the AOI and the dates. After that, sort the image batch by CLOUDY_PIXEL_PERCENTAGE and takes the first one. Add it as a layer to the visualization map then download it.\n",
    "\n",
    "\n",
    "If you get an error and that the ImageCollection is empty, then you have to be careful about your dataset. It may not cover the time range or the names of the bands are not correct."
   ]
  },
  {
   "cell_type": "code",
   "execution_count": 22,
   "metadata": {},
   "outputs": [
    {
     "data": {
      "text/html": [
       "\n",
       "            <style>\n",
       "                .geemap-dark {\n",
       "                    --jp-widgets-color: white;\n",
       "                    --jp-widgets-label-color: white;\n",
       "                    --jp-ui-font-color1: white;\n",
       "                    --jp-layout-color2: #454545;\n",
       "                    background-color: #383838;\n",
       "                }\n",
       "\n",
       "                .geemap-dark .jupyter-button {\n",
       "                    --jp-layout-color3: #383838;\n",
       "                }\n",
       "\n",
       "                .geemap-colab {\n",
       "                    background-color: var(--colab-primary-surface-color, white);\n",
       "                }\n",
       "\n",
       "                .geemap-colab .jupyter-button {\n",
       "                    --jp-layout-color3: var(--colab-primary-surface-color, white);\n",
       "                }\n",
       "            </style>\n",
       "            "
      ],
      "text/plain": [
       "<IPython.core.display.HTML object>"
      ]
     },
     "metadata": {},
     "output_type": "display_data"
    },
    {
     "name": "stdout",
     "output_type": "stream",
     "text": [
      "Processing month: 2023-05-01 to 2023-06-01\n",
      "The ImageCollection contains 13 images.\n"
     ]
    }
   ],
   "source": [
    "# Iterate over the sequence of months.\n",
    "for month in months :\n",
    "    current_start = start_date.advance(month, 'month')\n",
    "    current_end = current_start.advance(month_range, 'month')\n",
    "    # Print the start and end dates.\n",
    "    print(f'Processing month: {current_start.format(\"YYYY-MM-dd\").getInfo()} to {current_end.format(\"YYYY-MM-dd\").getInfo()}')\n",
    "    \n",
    "\n",
    "    # Search image\n",
    "    Image_batch=ee.ImageCollection(Satellite_Collection) .filterBounds(aoi) .filterDate(current_start, current_end)\n",
    "    # Check if the collection is empty\n",
    "    collection_size = Image_batch.size().getInfo()\n",
    "\n",
    "    if collection_size == 0:\n",
    "        print(\"The ImageCollection is empty.\")\n",
    "    else:\n",
    "     print(f\"The ImageCollection contains {collection_size} images.\")\n",
    "\n",
    "    img = ee.Image( Image_batch.sort('CLOUDY_PIXEL_PERCENTAGE',ascending=True)\n",
    "                       .first() \n",
    "                       .clip(aoi)\n",
    "                       .select(Bands),)\n",
    "    \n",
    "\n",
    "    #Visualisation\n",
    "\n",
    "    vizParams = {\n",
    "    'bands': Bands[:3], #Red, Green, Blue bands\n",
    "    }\n",
    "    Map.addLayer(img, vizParams, f'{current_start.format(\"YYYY-MM-dd\").getInfo()} to {current_end.format(\"YYYY-MM-dd\").getInfo()}')\n",
    "\n",
    "    # Multi-band GeoTIFF file.\n",
    "    if GeoTiff_format:\n",
    "        url = img.getDownloadUrl({\n",
    "            'bands': Bands,\n",
    "            'region': aoi,\n",
    "            'scale': 20,\n",
    "            'format': 'GEO_TIFF'\n",
    "        })\n",
    "        response = requests.get(url)\n",
    "        with open(output_directory+ f'/multi_band_{current_start.format(\"YYYY-MM-dd\").getInfo()}.tif', 'wb') as fd:\n",
    "            fd.write(response.content)\n",
    "    if Numpy_format:\n",
    "       url = img.getDownloadUrl({\n",
    "            'bands': Bands,\n",
    "            'region': aoi,\n",
    "            'scale': 20,\n",
    "            'format': 'NPY'\n",
    "        })\n",
    "    response = requests.get(url)\n",
    "    data = np.load(io.BytesIO(response.content))\n",
    "\n"
   ]
  },
  {
   "cell_type": "markdown",
   "metadata": {},
   "source": [
    "Display the map with all the layers of the downloaded images. You can then choose the 3 band view (choose Stretch=100%) to view the images."
   ]
  },
  {
   "cell_type": "code",
   "execution_count": 17,
   "metadata": {},
   "outputs": [
    {
     "data": {
      "text/html": [
       "\n",
       "            <style>\n",
       "                .geemap-dark {\n",
       "                    --jp-widgets-color: white;\n",
       "                    --jp-widgets-label-color: white;\n",
       "                    --jp-ui-font-color1: white;\n",
       "                    --jp-layout-color2: #454545;\n",
       "                    background-color: #383838;\n",
       "                }\n",
       "\n",
       "                .geemap-dark .jupyter-button {\n",
       "                    --jp-layout-color3: #383838;\n",
       "                }\n",
       "\n",
       "                .geemap-colab {\n",
       "                    background-color: var(--colab-primary-surface-color, white);\n",
       "                }\n",
       "\n",
       "                .geemap-colab .jupyter-button {\n",
       "                    --jp-layout-color3: var(--colab-primary-surface-color, white);\n",
       "                }\n",
       "            </style>\n",
       "            "
      ],
      "text/plain": [
       "<IPython.core.display.HTML object>"
      ]
     },
     "metadata": {},
     "output_type": "display_data"
    },
    {
     "data": {
      "application/vnd.jupyter.widget-view+json": {
       "model_id": "45ec889af1ab46d9a9a7e5abe81bc75f",
       "version_major": 2,
       "version_minor": 0
      },
      "text/plain": [
       "Map(bottom=46768.0, center=[46.479926367904945, 8.029911026811751], controls=(ZoomControl(options=['position',…"
      ]
     },
     "metadata": {},
     "output_type": "display_data"
    }
   ],
   "source": [
    "Map.centerObject(aoi, 11)\n",
    "display(Map)"
   ]
  }
 ],
 "metadata": {
  "kernelspec": {
   "display_name": "GEE",
   "language": "python",
   "name": "python3"
  },
  "language_info": {
   "codemirror_mode": {
    "name": "ipython",
    "version": 3
   },
   "file_extension": ".py",
   "mimetype": "text/x-python",
   "name": "python",
   "nbconvert_exporter": "python",
   "pygments_lexer": "ipython3",
   "version": "3.13.2"
  }
 },
 "nbformat": 4,
 "nbformat_minor": 2
}
